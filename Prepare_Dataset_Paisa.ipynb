{
 "cells": [
  {
   "cell_type": "code",
   "execution_count": 8,
   "id": "39df3127-e0e8-492d-839c-f849c07501e4",
   "metadata": {
    "execution": {
     "iopub.execute_input": "2025-06-12T04:09:05.364632Z",
     "iopub.status.busy": "2025-06-12T04:09:05.364213Z",
     "iopub.status.idle": "2025-06-12T04:09:15.243097Z",
     "shell.execute_reply": "2025-06-12T04:09:15.242374Z",
     "shell.execute_reply.started": "2025-06-12T04:09:05.364616Z"
    },
    "scrolled": true
   },
   "outputs": [
    {
     "name": "stdout",
     "output_type": "stream",
     "text": [
      "Hit:1 http://archive.ubuntu.com/ubuntu jammy InRelease\n",
      "Get:2 http://security.ubuntu.com/ubuntu jammy-security InRelease [129 kB]\n",
      "Get:3 http://archive.ubuntu.com/ubuntu jammy-updates InRelease [128 kB]\n",
      "Reading package lists... Done     \u001b[0m                            \u001b[0m\n",
      "Get:4 http://archive.ubuntu.com/ubuntu jammy-backports InRelease [127 kB]\n",
      "Get:5 http://security.ubuntu.com/ubuntu jammy-security/universe amd64 Packages [1246 kB]\n",
      "Building dependency tree... Done%]\u001b[0m                            \u001b[0m\u001b[33m\n",
      "Reading state information... Done\n",
      "22% [Waiting for headers] [5 Packages 147 kB/1246 kB 12%]\u001b[0mespeak-ng is already the newest version (1.50+dfsg-10ubuntu0.1).\n",
      "Get:6 http://archive.ubuntu.com/ubuntu jammy-updates/main amd64 Packages [3295 kB]\n",
      "23% [6 Packages 2655 B/3295 kB 0%] [5 Packages 187 kB/1246 kB 15%]\u001b[0m0 upgraded, 0 newly installed, 0 to remove and 14 not upgraded.\n",
      "Collecting faster-whisper\n",
      "  Downloading faster_whisper-1.1.1-py3-none-any.whl.metadata (16 kB)\n",
      "Collecting pydub\n",
      "  Using cached pydub-0.25.1-py2.py3-none-any.whl.metadata (1.4 kB)\n",
      "Collecting ctranslate2<5,>=4.0 (from faster-whisper)\n",
      "  Downloading ctranslate2-4.6.0-cp311-cp311-manylinux_2_17_x86_64.manylinux2014_x86_64.whl.metadata (10 kB)\n",
      "Collecting huggingface-hub>=0.13 (from faster-whisper)\n",
      "  Downloading huggingface_hub-0.33.0-py3-none-any.whl.metadata (14 kB)\n",
      "Collecting tokenizers<1,>=0.13 (from faster-whisper)\n",
      "  Using cached tokenizers-0.21.1-cp39-abi3-manylinux_2_17_x86_64.manylinux2014_x86_64.whl.metadata (6.8 kB)\n",
      "Collecting onnxruntime<2,>=1.14 (from faster-whisper)\n",
      "  Downloading onnxruntime-1.22.0-cp311-cp311-manylinux_2_27_x86_64.manylinux_2_28_x86_64.whl.metadata (4.5 kB)\n",
      "Collecting av>=11 (from faster-whisper)\n",
      "  Downloading av-14.4.0-cp311-cp311-manylinux_2_17_x86_64.manylinux2014_x86_64.whl.metadata (4.6 kB)\n",
      "Requirement already satisfied: tqdm in /opt/conda/envs/pruebas/lib/python3.11/site-packages (from faster-whisper) (4.67.1)\n",
      "Requirement already satisfied: setuptools in /opt/conda/envs/pruebas/lib/python3.11/site-packages (from ctranslate2<5,>=4.0->faster-whisper) (78.1.1)\n",
      "Requirement already satisfied: numpy in /opt/conda/envs/pruebas/lib/python3.11/site-packages (from ctranslate2<5,>=4.0->faster-whisper) (2.2.6)\n",
      "Requirement already satisfied: pyyaml<7,>=5.3 in /opt/conda/envs/pruebas/lib/python3.11/site-packages (from ctranslate2<5,>=4.0->faster-whisper) (6.0.2)\n",
      "Collecting coloredlogs (from onnxruntime<2,>=1.14->faster-whisper)\n",
      "  Downloading coloredlogs-15.0.1-py2.py3-none-any.whl.metadata (12 kB)\n",
      "Collecting flatbuffers (from onnxruntime<2,>=1.14->faster-whisper)\n",
      "  Downloading flatbuffers-25.2.10-py2.py3-none-any.whl.metadata (875 bytes)\n",
      "Requirement already satisfied: packaging in /opt/conda/envs/pruebas/lib/python3.11/site-packages (from onnxruntime<2,>=1.14->faster-whisper) (25.0)\n",
      "Collecting protobuf (from onnxruntime<2,>=1.14->faster-whisper)\n",
      "  Downloading protobuf-6.31.1-cp39-abi3-manylinux2014_x86_64.whl.metadata (593 bytes)\n",
      "Collecting sympy (from onnxruntime<2,>=1.14->faster-whisper)\n",
      "  Using cached sympy-1.14.0-py3-none-any.whl.metadata (12 kB)\n",
      "Collecting filelock (from huggingface-hub>=0.13->faster-whisper)\n",
      "  Using cached filelock-3.18.0-py3-none-any.whl.metadata (2.9 kB)\n",
      "Collecting fsspec>=2023.5.0 (from huggingface-hub>=0.13->faster-whisper)\n",
      "  Using cached fsspec-2025.5.1-py3-none-any.whl.metadata (11 kB)\n",
      "Requirement already satisfied: requests in /opt/conda/envs/pruebas/lib/python3.11/site-packages (from huggingface-hub>=0.13->faster-whisper) (2.32.3)\n",
      "Requirement already satisfied: typing-extensions>=3.7.4.3 in /opt/conda/envs/pruebas/lib/python3.11/site-packages (from huggingface-hub>=0.13->faster-whisper) (4.14.0)\n",
      "Collecting hf-xet<2.0.0,>=1.1.2 (from huggingface-hub>=0.13->faster-whisper)\n",
      "  Using cached hf_xet-1.1.3-cp37-abi3-manylinux_2_17_x86_64.manylinux2014_x86_64.whl.metadata (879 bytes)\n",
      "Collecting humanfriendly>=9.1 (from coloredlogs->onnxruntime<2,>=1.14->faster-whisper)\n",
      "  Downloading humanfriendly-10.0-py2.py3-none-any.whl.metadata (9.2 kB)\n",
      "Requirement already satisfied: charset-normalizer<4,>=2 in /opt/conda/envs/pruebas/lib/python3.11/site-packages (from requests->huggingface-hub>=0.13->faster-whisper) (3.4.2)\n",
      "Requirement already satisfied: idna<4,>=2.5 in /opt/conda/envs/pruebas/lib/python3.11/site-packages (from requests->huggingface-hub>=0.13->faster-whisper) (3.10)\n",
      "Requirement already satisfied: urllib3<3,>=1.21.1 in /opt/conda/envs/pruebas/lib/python3.11/site-packages (from requests->huggingface-hub>=0.13->faster-whisper) (2.4.0)\n",
      "Requirement already satisfied: certifi>=2017.4.17 in /opt/conda/envs/pruebas/lib/python3.11/site-packages (from requests->huggingface-hub>=0.13->faster-whisper) (2025.4.26)\n",
      "Collecting mpmath<1.4,>=1.1.0 (from sympy->onnxruntime<2,>=1.14->faster-whisper)\n",
      "  Using cached mpmath-1.3.0-py3-none-any.whl.metadata (8.6 kB)\n",
      "Downloading faster_whisper-1.1.1-py3-none-any.whl (1.1 MB)\n",
      "\u001b[2K   \u001b[90m━━━━━━━━━━━━━━━━━━━━━━━━━━━━━━━━━━━━━━━━\u001b[0m \u001b[32m1.1/1.1 MB\u001b[0m \u001b[31m194.4 MB/s\u001b[0m eta \u001b[36m0:00:00\u001b[0m\n",
      "\u001b[?25hDownloading ctranslate2-4.6.0-cp311-cp311-manylinux_2_17_x86_64.manylinux2014_x86_64.whl (38.6 MB)\n",
      "\u001b[2K   \u001b[90m━━━━━━━━━━━━━━━━━━━━━━━━━━━━━━━━━━━━━━━━\u001b[0m \u001b[32m38.6/38.6 MB\u001b[0m \u001b[31m235.1 MB/s\u001b[0m eta \u001b[36m0:00:00\u001b[0m\n",
      "\u001b[?25hDownloading onnxruntime-1.22.0-cp311-cp311-manylinux_2_27_x86_64.manylinux_2_28_x86_64.whl (16.4 MB)\n",
      "\u001b[2K   \u001b[90m━━━━━━━━━━━━━━━━━━━━━━━━━━━━━━━━━━━━━━━━\u001b[0m \u001b[32m16.4/16.4 MB\u001b[0m \u001b[31m210.6 MB/s\u001b[0m eta \u001b[36m0:00:00\u001b[0m\n",
      "\u001b[?25hUsing cached tokenizers-0.21.1-cp39-abi3-manylinux_2_17_x86_64.manylinux2014_x86_64.whl (3.0 MB)\n",
      "Downloading huggingface_hub-0.33.0-py3-none-any.whl (514 kB)\n",
      "Using cached hf_xet-1.1.3-cp37-abi3-manylinux_2_17_x86_64.manylinux2014_x86_64.whl (4.8 MB)\n",
      "Using cached pydub-0.25.1-py2.py3-none-any.whl (32 kB)\n",
      "Downloading av-14.4.0-cp311-cp311-manylinux_2_17_x86_64.manylinux2014_x86_64.whl (35.3 MB)\n",
      "\u001b[2K   \u001b[90m━━━━━━━━━━━━━━━━━━━━━━━━━━━━━━━━━━━━━━━━\u001b[0m \u001b[32m35.3/35.3 MB\u001b[0m \u001b[31m204.0 MB/s\u001b[0m eta \u001b[36m0:00:00\u001b[0m\n",
      "\u001b[?25hUsing cached fsspec-2025.5.1-py3-none-any.whl (199 kB)\n",
      "Downloading coloredlogs-15.0.1-py2.py3-none-any.whl (46 kB)\n",
      "Downloading humanfriendly-10.0-py2.py3-none-any.whl (86 kB)\n",
      "Using cached filelock-3.18.0-py3-none-any.whl (16 kB)\n",
      "Downloading flatbuffers-25.2.10-py2.py3-none-any.whl (30 kB)\n",
      "Downloading protobuf-6.31.1-cp39-abi3-manylinux2014_x86_64.whl (321 kB)\n",
      "Using cached sympy-1.14.0-py3-none-any.whl (6.3 MB)\n",
      "Using cached mpmath-1.3.0-py3-none-any.whl (536 kB)\n",
      "Installing collected packages: pydub, mpmath, flatbuffers, sympy, protobuf, humanfriendly, hf-xet, fsspec, filelock, ctranslate2, av, huggingface-hub, coloredlogs, tokenizers, onnxruntime, faster-whisper\n",
      "\u001b[2K   \u001b[90m━━━━━━━━━━━━━━━━━━━━━━━━━━━━━━━━━━━━━━━━\u001b[0m \u001b[32m16/16\u001b[0m [faster-whisper]m [onnxruntime]hub]\n",
      "\u001b[1A\u001b[2KSuccessfully installed av-14.4.0 coloredlogs-15.0.1 ctranslate2-4.6.0 faster-whisper-1.1.1 filelock-3.18.0 flatbuffers-25.2.10 fsspec-2025.5.1 hf-xet-1.1.3 huggingface-hub-0.33.0 humanfriendly-10.0 mpmath-1.3.0 onnxruntime-1.22.0 protobuf-6.31.1 pydub-0.25.1 sympy-1.14.0 tokenizers-0.21.1\n",
      "\u001b[33mWARNING: Running pip as the 'root' user can result in broken permissions and conflicting behaviour with the system package manager, possibly rendering your system unusable. It is recommended to use a virtual environment instead: https://pip.pypa.io/warnings/venv. Use the --root-user-action option if you know what you are doing and want to suppress this warning.\u001b[0m\u001b[33m\n",
      "\u001b[0m"
     ]
    }
   ],
   "source": [
    "!apt update & apt install -y espeak-ng\n",
    "!pip install faster-whisper pydub\n",
    "#!pip install phonemizer"
   ]
  },
  {
   "cell_type": "code",
   "execution_count": 4,
   "id": "13e3e757-34e7-4100-a910-fd0117a0ffe3",
   "metadata": {
    "execution": {
     "iopub.execute_input": "2025-06-12T04:08:33.057610Z",
     "iopub.status.busy": "2025-06-12T04:08:33.057289Z",
     "iopub.status.idle": "2025-06-12T04:08:33.554222Z",
     "shell.execute_reply": "2025-06-12T04:08:33.553608Z",
     "shell.execute_reply.started": "2025-06-12T04:08:33.057590Z"
    }
   },
   "outputs": [],
   "source": [
    "import os\n",
    "import phonemizer\n",
    "import pandas as pd"
   ]
  },
  {
   "cell_type": "code",
   "execution_count": 9,
   "id": "0b3572fa-e4b9-4459-ae6d-69a1b8bfd2c9",
   "metadata": {
    "execution": {
     "iopub.execute_input": "2025-06-12T04:09:18.192751Z",
     "iopub.status.busy": "2025-06-12T04:09:18.192436Z",
     "iopub.status.idle": "2025-06-12T04:09:18.306885Z",
     "shell.execute_reply": "2025-06-12T04:09:18.306337Z",
     "shell.execute_reply.started": "2025-06-12T04:09:18.192732Z"
    }
   },
   "outputs": [],
   "source": [
    "import os\n",
    "import glob\n",
    "import pandas as pd\n",
    "from faster_whisper import WhisperModel\n",
    "from phonemizer import phonemize"
   ]
  },
  {
   "cell_type": "code",
   "execution_count": 10,
   "id": "2f930a55-59dd-431b-b806-3a081430076b",
   "metadata": {
    "execution": {
     "iopub.execute_input": "2025-06-12T04:09:20.548296Z",
     "iopub.status.busy": "2025-06-12T04:09:20.547651Z",
     "iopub.status.idle": "2025-06-12T04:09:20.553358Z",
     "shell.execute_reply": "2025-06-12T04:09:20.552882Z",
     "shell.execute_reply.started": "2025-06-12T04:09:20.548278Z"
    }
   },
   "outputs": [
    {
     "data": {
      "text/plain": [
       "'/tts_finetuning/notebooks'"
      ]
     },
     "execution_count": 10,
     "metadata": {},
     "output_type": "execute_result"
    }
   ],
   "source": [
    "pwd"
   ]
  },
  {
   "cell_type": "code",
   "execution_count": 55,
   "id": "d14d8f36-ef88-4a37-90bf-b2dfa3c2f7b2",
   "metadata": {
    "execution": {
     "iopub.execute_input": "2025-06-12T07:15:43.172715Z",
     "iopub.status.busy": "2025-06-12T07:15:43.172366Z",
     "iopub.status.idle": "2025-06-12T07:15:43.176252Z",
     "shell.execute_reply": "2025-06-12T07:15:43.175743Z",
     "shell.execute_reply.started": "2025-06-12T07:15:43.172698Z"
    },
    "scrolled": true
   },
   "outputs": [
    {
     "name": "stdout",
     "output_type": "stream",
     "text": [
      "['./ft_datapropio/style_lite/audios_costeno_wav/wav_24kHz/valledupar/hombre/713b7c4baf2c7b0742447c1ded7c0913.wav', './ft_datapropio/style_lite/audios_costeno_wav/wav_24kHz/valledupar/hombre/42c6a05fe612a5fbdd1d8ddb509d5484.wav', './ft_datapropio/style_lite/audios_costeno_wav/wav_24kHz/valledupar/hombre/42b3514d1c5a90c84ff78a0d0ac223da.wav', './ft_datapropio/style_lite/audios_costeno_wav/wav_24kHz/valledupar/hombre/e9ea0be19774bffac544d6099babaf2a.wav', './ft_datapropio/style_lite/audios_costeno_wav/wav_24kHz/valledupar/hombre/a28ebdb7cdaaa5916abb7973302c89aa.wav', './ft_datapropio/style_lite/audios_costeno_wav/wav_24kHz/valledupar/hombre/3ad61bede40dd85816be996c91646686.wav', './ft_datapropio/style_lite/audios_costeno_wav/wav_24kHz/valledupar/hombre/6c41f1460177d3016a10a7f7fcde755a.wav', './ft_datapropio/style_lite/audios_costeno_wav/wav_24kHz/valledupar/hombre/c7d345b3475081cc3901b090b674511f.wav', './ft_datapropio/style_lite/audios_costeno_wav/wav_24kHz/valledupar/hombre/b7aadaf259c5615f750736e4e0a3ddc4.wav', './ft_datapropio/style_lite/audios_costeno_wav/wav_24kHz/valledupar/hombre/4e84141081346e0baea883f475d17b0d.wav', './ft_datapropio/style_lite/audios_costeno_wav/wav_24kHz/valledupar/hombre/25d1b7c580cfd5aa729a5b11df1a5532.wav', './ft_datapropio/style_lite/audios_costeno_wav/wav_24kHz/valledupar/hombre/e4dc7eed5d02a77cea0f30ee796b82f8.wav', './ft_datapropio/style_lite/audios_costeno_wav/wav_24kHz/valledupar/hombre/85647be16e529421192f9e76084ead2e.wav', './ft_datapropio/style_lite/audios_costeno_wav/wav_24kHz/valledupar/hombre/570baa85426187cb783db89064c22a43.wav', './ft_datapropio/style_lite/audios_costeno_wav/wav_24kHz/valledupar/hombre/e2debc7e6489d785730993435c69e21c.wav', './ft_datapropio/style_lite/audios_costeno_wav/wav_24kHz/valledupar/hombre/df2f49546be829373dc38d0949799ea3.wav', './ft_datapropio/style_lite/audios_costeno_wav/wav_24kHz/valledupar/hombre/bc341a3453a01047392beb0bb43a70e3.wav', './ft_datapropio/style_lite/audios_costeno_wav/wav_24kHz/valledupar/hombre/47304dacaeb82fbb126d2a7be2b835a3.wav', './ft_datapropio/style_lite/audios_costeno_wav/wav_24kHz/valledupar/hombre/0c3fa4faa2f0a76c25fe8cc4f8477d30.wav', './ft_datapropio/style_lite/audios_costeno_wav/wav_24kHz/valledupar/hombre/eb9198ff7d37a579511625f5f8a684f6.wav', './ft_datapropio/style_lite/audios_costeno_wav/wav_24kHz/valledupar/hombre/a40f6c268fdee638153e20f5fc64a098.wav', './ft_datapropio/style_lite/audios_costeno_wav/wav_24kHz/valledupar/hombre/d513dcb9c3b76f6c335e6ba95148a761.wav', './ft_datapropio/style_lite/audios_costeno_wav/wav_24kHz/valledupar/hombre/9ad2b6de9c466603e5cfa760e26ad827.wav', './ft_datapropio/style_lite/audios_costeno_wav/wav_24kHz/valledupar/hombre/0be3e8e604836b7d3433d8847fc6ad5d.wav', './ft_datapropio/style_lite/audios_costeno_wav/wav_24kHz/valledupar/hombre/3bee7430e2c9e6db74f7948b91eaf7b1.wav', './ft_datapropio/style_lite/audios_costeno_wav/wav_24kHz/valledupar/hombre/291ad6f556b99e9ff67b299eb2a93c0a.wav', './ft_datapropio/style_lite/audios_costeno_wav/wav_24kHz/valledupar/hombre/a772eabfca4d7e98a48e694bd18812f2.wav', './ft_datapropio/style_lite/audios_costeno_wav/wav_24kHz/valledupar/hombre/bd52380009ea7153da65a2a1feea3fde.wav', './ft_datapropio/style_lite/audios_costeno_wav/wav_24kHz/valledupar/hombre/e248f7ea4548f14cd7c186139c497515.wav', './ft_datapropio/style_lite/audios_costeno_wav/wav_24kHz/valledupar/hombre/e98ca31b31a0bf23a40ab72cd55a6728.wav', './ft_datapropio/style_lite/audios_costeno_wav/wav_24kHz/valledupar/hombre/64ef5f3ec43d39bd8e7ce35171a9440e.wav', './ft_datapropio/style_lite/audios_costeno_wav/wav_24kHz/valledupar/hombre/b6e8aef664546c4f3aca156e8cf3511e.wav', './ft_datapropio/style_lite/audios_costeno_wav/wav_24kHz/valledupar/hombre/bf53afe7d2ed63f0f2b88a15024e65ba.wav', './ft_datapropio/style_lite/audios_costeno_wav/wav_24kHz/valledupar/hombre/9fc05b3f65d4a3d9bccca426c97c17ce.wav', './ft_datapropio/style_lite/audios_costeno_wav/wav_24kHz/valledupar/hombre/bdbe93fc038e8e25b23a2e7b41178e3c.wav', './ft_datapropio/style_lite/audios_costeno_wav/wav_24kHz/valledupar/hombre/a28fb41b758f81422807d4e0831fec51.wav']\n"
     ]
    }
   ],
   "source": [
    "audio_dir = './ft_datapropio/style_lite/audios_costeno_wav/wav_24kHz/valledupar/hombre'\n",
    "audio_files = glob.glob(os.path.join(audio_dir, '*.wav'))\n",
    "print(audio_files)"
   ]
  },
  {
   "cell_type": "code",
   "execution_count": 56,
   "id": "ab54e9f6-7244-41d9-9381-2a4e1afb47f5",
   "metadata": {
    "execution": {
     "iopub.execute_input": "2025-06-12T07:15:46.288141Z",
     "iopub.status.busy": "2025-06-12T07:15:46.287837Z",
     "iopub.status.idle": "2025-06-12T07:18:41.937836Z",
     "shell.execute_reply": "2025-06-12T07:18:41.937313Z",
     "shell.execute_reply.started": "2025-06-12T07:15:46.288124Z"
    }
   },
   "outputs": [
    {
     "data": {
      "text/html": [
       "<div>\n",
       "<style scoped>\n",
       "    .dataframe tbody tr th:only-of-type {\n",
       "        vertical-align: middle;\n",
       "    }\n",
       "\n",
       "    .dataframe tbody tr th {\n",
       "        vertical-align: top;\n",
       "    }\n",
       "\n",
       "    .dataframe thead th {\n",
       "        text-align: right;\n",
       "    }\n",
       "</style>\n",
       "<table border=\"1\" class=\"dataframe\">\n",
       "  <thead>\n",
       "    <tr style=\"text-align: right;\">\n",
       "      <th></th>\n",
       "      <th>filename</th>\n",
       "      <th>transcription</th>\n",
       "      <th>phonemes</th>\n",
       "    </tr>\n",
       "  </thead>\n",
       "  <tbody>\n",
       "    <tr>\n",
       "      <th>0</th>\n",
       "      <td>/tts_finetuning/notebooks/ft_datapropio/style_...</td>\n",
       "      <td>¡Oh padre, si usted está saliendo con una much...</td>\n",
       "      <td>¡ˈo pˈaðɾe, si ustˈeð estˈa saljˈɛndo kon ˈuna...</td>\n",
       "    </tr>\n",
       "    <tr>\n",
       "      <th>1</th>\n",
       "      <td>/tts_finetuning/notebooks/ft_datapropio/style_...</td>\n",
       "      <td>No te lo puedo creer, esto no puede ser posibl...</td>\n",
       "      <td>nˈo te lo pwˈeðo kɾeˈeɾ, ˈesto nˈo pwˈeðe sˈer...</td>\n",
       "    </tr>\n",
       "    <tr>\n",
       "      <th>2</th>\n",
       "      <td>/tts_finetuning/notebooks/ft_datapropio/style_...</td>\n",
       "      <td>¡Ay, Ofendigo! Definitivamente, el peor día de...</td>\n",
       "      <td>¡ˈaɪ, ˌofendˈiɣo! dˌefinitˈiβamˈente, el peˈoɾ...</td>\n",
       "    </tr>\n",
       "    <tr>\n",
       "      <th>3</th>\n",
       "      <td>/tts_finetuning/notebooks/ft_datapropio/style_...</td>\n",
       "      <td>yo quiero saber en qué parte de la vida dice q...</td>\n",
       "      <td>ʝˈo kjˈeɾo saβˈeɾ en kˈe pˈaɾte ðe la βˈiða ðˈ...</td>\n",
       "    </tr>\n",
       "    <tr>\n",
       "      <th>4</th>\n",
       "      <td>/tts_finetuning/notebooks/ft_datapropio/style_...</td>\n",
       "      <td>me gustaba drogarme la después que yo tuviera ...</td>\n",
       "      <td>me ɣustˈaβa ðɾoɣˈaɾme la ðespwˈes ke ʝˈo tuβjˈ...</td>\n",
       "    </tr>\n",
       "  </tbody>\n",
       "</table>\n",
       "</div>"
      ],
      "text/plain": [
       "                                            filename  \\\n",
       "0  /tts_finetuning/notebooks/ft_datapropio/style_...   \n",
       "1  /tts_finetuning/notebooks/ft_datapropio/style_...   \n",
       "2  /tts_finetuning/notebooks/ft_datapropio/style_...   \n",
       "3  /tts_finetuning/notebooks/ft_datapropio/style_...   \n",
       "4  /tts_finetuning/notebooks/ft_datapropio/style_...   \n",
       "\n",
       "                                       transcription  \\\n",
       "0  ¡Oh padre, si usted está saliendo con una much...   \n",
       "1  No te lo puedo creer, esto no puede ser posibl...   \n",
       "2  ¡Ay, Ofendigo! Definitivamente, el peor día de...   \n",
       "3  yo quiero saber en qué parte de la vida dice q...   \n",
       "4  me gustaba drogarme la después que yo tuviera ...   \n",
       "\n",
       "                                            phonemes  \n",
       "0  ¡ˈo pˈaðɾe, si ustˈeð estˈa saljˈɛndo kon ˈuna...  \n",
       "1  nˈo te lo pwˈeðo kɾeˈeɾ, ˈesto nˈo pwˈeðe sˈer...  \n",
       "2  ¡ˈaɪ, ˌofendˈiɣo! dˌefinitˈiβamˈente, el peˈoɾ...  \n",
       "3  ʝˈo kjˈeɾo saβˈeɾ en kˈe pˈaɾte ðe la βˈiða ðˈ...  \n",
       "4  me ɣustˈaβa ðɾoɣˈaɾme la ðespwˈes ke ʝˈo tuβjˈ...  "
      ]
     },
     "execution_count": 56,
     "metadata": {},
     "output_type": "execute_result"
    }
   ],
   "source": [
    "data = []\n",
    "\n",
    "for audio_path in audio_files:\n",
    "    segments, _ = model.transcribe(audio_path, language='es')\n",
    "    text = ' '.join([segment.text.strip() for segment in segments]).strip()\n",
    "    phonemes = get_phoneme(text)\n",
    "    \n",
    "    data.append({\n",
    "        'filename': os.path.abspath(audio_path),\n",
    "        'transcription': text,\n",
    "        'phonemes': phonemes\n",
    "    })\n",
    "df = pd.DataFrame(data)\n",
    "df.head()\n"
   ]
  },
  {
   "cell_type": "code",
   "execution_count": 57,
   "id": "34723d4e-1230-4832-bc4a-a15a6285598e",
   "metadata": {
    "execution": {
     "iopub.execute_input": "2025-06-12T07:18:41.938639Z",
     "iopub.status.busy": "2025-06-12T07:18:41.938507Z",
     "iopub.status.idle": "2025-06-12T07:18:41.941984Z",
     "shell.execute_reply": "2025-06-12T07:18:41.941561Z",
     "shell.execute_reply.started": "2025-06-12T07:18:41.938627Z"
    }
   },
   "outputs": [
    {
     "data": {
      "text/plain": [
       "36"
      ]
     },
     "execution_count": 57,
     "metadata": {},
     "output_type": "execute_result"
    }
   ],
   "source": [
    "len(df)"
   ]
  },
  {
   "cell_type": "code",
   "execution_count": 58,
   "id": "1c154bca-e567-44cd-95f9-d865136d39b6",
   "metadata": {
    "execution": {
     "iopub.execute_input": "2025-06-12T07:18:41.942739Z",
     "iopub.status.busy": "2025-06-12T07:18:41.942449Z",
     "iopub.status.idle": "2025-06-12T07:18:41.947241Z",
     "shell.execute_reply": "2025-06-12T07:18:41.946814Z",
     "shell.execute_reply.started": "2025-06-12T07:18:41.942725Z"
    }
   },
   "outputs": [],
   "source": [
    "df.to_csv(\"./ft_datapropio/style_lite/audios_costeno_wav/wav_24kHz/valledupar/data_valle_hombre_wav.csv\", index=False, sep = '|')"
   ]
  },
  {
   "cell_type": "code",
   "execution_count": 59,
   "id": "4daf5a2b-a182-4eef-8dbc-db35c4fadb6f",
   "metadata": {
    "execution": {
     "iopub.execute_input": "2025-06-12T07:18:41.948252Z",
     "iopub.status.busy": "2025-06-12T07:18:41.948025Z",
     "iopub.status.idle": "2025-06-12T07:18:41.952728Z",
     "shell.execute_reply": "2025-06-12T07:18:41.952299Z",
     "shell.execute_reply.started": "2025-06-12T07:18:41.948239Z"
    }
   },
   "outputs": [],
   "source": [
    "df = pd.read_csv(\"./ft_datapropio/style_lite/audios_costeno_wav/wav_24kHz/valledupar/data_valle_hombre_wav.csv\", sep = \"|\")\n",
    "#df = df[[\"path\", \"text\", \"phonemes\"]].rename(columns={\"path\": \"filename\", \"text\": \"transcription\"})"
   ]
  },
  {
   "cell_type": "code",
   "execution_count": 62,
   "id": "80b8dfa4-74c7-414b-9355-f59fcd01273e",
   "metadata": {
    "execution": {
     "iopub.execute_input": "2025-06-12T07:21:48.377716Z",
     "iopub.status.busy": "2025-06-12T07:21:48.377354Z",
     "iopub.status.idle": "2025-06-12T07:21:48.385928Z",
     "shell.execute_reply": "2025-06-12T07:21:48.385401Z",
     "shell.execute_reply.started": "2025-06-12T07:21:48.377698Z"
    },
    "scrolled": true
   },
   "outputs": [
    {
     "data": {
      "text/html": [
       "<div>\n",
       "<style scoped>\n",
       "    .dataframe tbody tr th:only-of-type {\n",
       "        vertical-align: middle;\n",
       "    }\n",
       "\n",
       "    .dataframe tbody tr th {\n",
       "        vertical-align: top;\n",
       "    }\n",
       "\n",
       "    .dataframe thead th {\n",
       "        text-align: right;\n",
       "    }\n",
       "</style>\n",
       "<table border=\"1\" class=\"dataframe\">\n",
       "  <thead>\n",
       "    <tr style=\"text-align: right;\">\n",
       "      <th></th>\n",
       "      <th>filename</th>\n",
       "      <th>transcription</th>\n",
       "      <th>phonemes</th>\n",
       "    </tr>\n",
       "  </thead>\n",
       "  <tbody>\n",
       "    <tr>\n",
       "      <th>0</th>\n",
       "      <td>/tts_finetuning/notebooks/ft_datapropio/style_...</td>\n",
       "      <td>¡Oh padre, si usted está saliendo con una much...</td>\n",
       "      <td>¡ˈo pˈaðɾe, si ustˈeð estˈa saljˈɛndo kon ˈuna...</td>\n",
       "    </tr>\n",
       "    <tr>\n",
       "      <th>1</th>\n",
       "      <td>/tts_finetuning/notebooks/ft_datapropio/style_...</td>\n",
       "      <td>No te lo puedo creer, esto no puede ser posibl...</td>\n",
       "      <td>nˈo te lo pwˈeðo kɾeˈeɾ, ˈesto nˈo pwˈeðe sˈer...</td>\n",
       "    </tr>\n",
       "    <tr>\n",
       "      <th>2</th>\n",
       "      <td>/tts_finetuning/notebooks/ft_datapropio/style_...</td>\n",
       "      <td>¡Ay, Ofendigo! Definitivamente, el peor día de...</td>\n",
       "      <td>¡ˈaɪ, ˌofendˈiɣo! dˌefinitˈiβamˈente, el peˈoɾ...</td>\n",
       "    </tr>\n",
       "    <tr>\n",
       "      <th>3</th>\n",
       "      <td>/tts_finetuning/notebooks/ft_datapropio/style_...</td>\n",
       "      <td>yo quiero saber en qué parte de la vida dice q...</td>\n",
       "      <td>ʝˈo kjˈeɾo saβˈeɾ en kˈe pˈaɾte ðe la βˈiða ðˈ...</td>\n",
       "    </tr>\n",
       "    <tr>\n",
       "      <th>4</th>\n",
       "      <td>/tts_finetuning/notebooks/ft_datapropio/style_...</td>\n",
       "      <td>me gustaba drogarme la después que yo tuviera ...</td>\n",
       "      <td>me ɣustˈaβa ðɾoɣˈaɾme la ðespwˈes ke ʝˈo tuβjˈ...</td>\n",
       "    </tr>\n",
       "    <tr>\n",
       "      <th>5</th>\n",
       "      <td>/tts_finetuning/notebooks/ft_datapropio/style_...</td>\n",
       "      <td>Hay muchos chachos algunos, ustedes saben acer...</td>\n",
       "      <td>ˈaɪ mˈutʃos tʃˈatʃos alɣˈunos, ustˈeðes sˈaβen...</td>\n",
       "    </tr>\n",
       "    <tr>\n",
       "      <th>6</th>\n",
       "      <td>/tts_finetuning/notebooks/ft_datapropio/style_...</td>\n",
       "      <td>al cuánto tiempo de unos influences de recuno ...</td>\n",
       "      <td>al kwˈanto tjˈempo ðe ˈunos ˌimfluˈɛnses ðe ɾɾ...</td>\n",
       "    </tr>\n",
       "    <tr>\n",
       "      <th>7</th>\n",
       "      <td>/tts_finetuning/notebooks/ft_datapropio/style_...</td>\n",
       "      <td>Estaba parqueando sus carros allá, era la casa...</td>\n",
       "      <td>estˈaβa pˌaɾkeˈando sus kˈaɾɾos ajjˈa, ˈeɾa la...</td>\n",
       "    </tr>\n",
       "    <tr>\n",
       "      <th>8</th>\n",
       "      <td>/tts_finetuning/notebooks/ft_datapropio/style_...</td>\n",
       "      <td>cosa que no me gusta que la gente publique en ...</td>\n",
       "      <td>kˈosa ke nˈo me ɣˈusta ke la xˈɛnte puβlˈike e...</td>\n",
       "    </tr>\n",
       "    <tr>\n",
       "      <th>9</th>\n",
       "      <td>/tts_finetuning/notebooks/ft_datapropio/style_...</td>\n",
       "      <td>No hubiese puerto, tú crees que estarías dedic...</td>\n",
       "      <td>nˈo uβjˈese pwˈeɾto, tˈu kɾˈees ke ˌestaɾˈias ...</td>\n",
       "    </tr>\n",
       "    <tr>\n",
       "      <th>10</th>\n",
       "      <td>/tts_finetuning/notebooks/ft_datapropio/style_...</td>\n",
       "      <td>Yo no sé si será castigo de Dios, mi hermano, ...</td>\n",
       "      <td>ʝˈo nˈo sˈe si seɾˈa kastˈiɣo ðe ðjˈos, mi eɾm...</td>\n",
       "    </tr>\n",
       "    <tr>\n",
       "      <th>11</th>\n",
       "      <td>/tts_finetuning/notebooks/ft_datapropio/style_...</td>\n",
       "      <td>No jodí que la plata daña, que me dañe, a mí l...</td>\n",
       "      <td>nˈo xoðˈi ke la plˈata ðˈaɲa, ke me ðˈaɲe, a m...</td>\n",
       "    </tr>\n",
       "    <tr>\n",
       "      <th>12</th>\n",
       "      <td>/tts_finetuning/notebooks/ft_datapropio/style_...</td>\n",
       "      <td>Claro, cuando yo veo toda esa banda, yo lo pri...</td>\n",
       "      <td>klˈaɾo, kwˌando ʝˈo βˈeo tˈoða ˈesa βˈanda, ʝˈ...</td>\n",
       "    </tr>\n",
       "    <tr>\n",
       "      <th>13</th>\n",
       "      <td>/tts_finetuning/notebooks/ft_datapropio/style_...</td>\n",
       "      <td>En mi época te rulense, mientras yo andaba a l...</td>\n",
       "      <td>en mi ˈepoka te ɾɾulˈɛnse, mjˌentɾas ʝˈo andˈa...</td>\n",
       "    </tr>\n",
       "    <tr>\n",
       "      <th>14</th>\n",
       "      <td>/tts_finetuning/notebooks/ft_datapropio/style_...</td>\n",
       "      <td>Que pasó lo que pasó cuando sigo invito, que a...</td>\n",
       "      <td>ke pasˈo lo ke pasˈo kwˌando sˈiɣo imbˈito, ke...</td>\n",
       "    </tr>\n",
       "    <tr>\n",
       "      <th>15</th>\n",
       "      <td>/tts_finetuning/notebooks/ft_datapropio/style_...</td>\n",
       "      <td>Oye, yo creo que hay algo en esta vida que yo ...</td>\n",
       "      <td>ˈojje, ʝˈo kɾˈeo ke ˈaɪ ˈalɣo en ˈesta βˈiða k...</td>\n",
       "    </tr>\n",
       "    <tr>\n",
       "      <th>16</th>\n",
       "      <td>/tts_finetuning/notebooks/ft_datapropio/style_...</td>\n",
       "      <td>Nos jodas y a nosotros los costeños nos llegan...</td>\n",
       "      <td>nos xˈoðas i a nosˈotɾos los kostˈeɲos nos ʝˈe...</td>\n",
       "    </tr>\n",
       "    <tr>\n",
       "      <th>17</th>\n",
       "      <td>/tts_finetuning/notebooks/ft_datapropio/style_...</td>\n",
       "      <td>Yo creo mucho en el universo, Molucco. Pero 10...</td>\n",
       "      <td>ʝˈo kɾˈeo mˈutʃo en el ˌuniβˈeɾso, molˈukko. p...</td>\n",
       "    </tr>\n",
       "    <tr>\n",
       "      <th>18</th>\n",
       "      <td>/tts_finetuning/notebooks/ft_datapropio/style_...</td>\n",
       "      <td>Ay un poco gente ofendido por lo que está pasa...</td>\n",
       "      <td>ˈaɪ ˈum pˈoko xˈɛnte ˌofendˈiðo poɾ lo ke estˈ...</td>\n",
       "    </tr>\n",
       "    <tr>\n",
       "      <th>19</th>\n",
       "      <td>/tts_finetuning/notebooks/ft_datapropio/style_...</td>\n",
       "      <td>Y es verdad que una vez también de rabia rompi...</td>\n",
       "      <td>i ˈes βeɾðˈad ke ˈuna βˈes tambjˈen de ɾɾˈaβja...</td>\n",
       "    </tr>\n",
       "    <tr>\n",
       "      <th>20</th>\n",
       "      <td>/tts_finetuning/notebooks/ft_datapropio/style_...</td>\n",
       "      <td>te escriben y que hola y uno hola, que me cuen...</td>\n",
       "      <td>te eskɾˈiβen i ke ˈola i ˈuno ˈola, ke me kwˈɛ...</td>\n",
       "    </tr>\n",
       "    <tr>\n",
       "      <th>21</th>\n",
       "      <td>/tts_finetuning/notebooks/ft_datapropio/style_...</td>\n",
       "      <td>Bueno, voy a poner una denuncia pública porque...</td>\n",
       "      <td>bwˈeno, bˈoɪ a ponˈeɾ ˈuna ðenˈunsja pˈuβlika ...</td>\n",
       "    </tr>\n",
       "    <tr>\n",
       "      <th>22</th>\n",
       "      <td>/tts_finetuning/notebooks/ft_datapropio/style_...</td>\n",
       "      <td>A todo Martinsito les dieron duro cuando comen...</td>\n",
       "      <td>a tˈoðo mˌaɾtinsˈito les ðjˈeɾon dˈuɾo kwˌando...</td>\n",
       "    </tr>\n",
       "    <tr>\n",
       "      <th>23</th>\n",
       "      <td>/tts_finetuning/notebooks/ft_datapropio/style_...</td>\n",
       "      <td>¡Tarlai de 545! ¡Ey, mano! ¡Cierra la puerta q...</td>\n",
       "      <td>¡tˈaɾlaɪ ðe kinjˈɛntos kwaɾˌɛntaisˈinko! ¡ˈeɪ,...</td>\n",
       "    </tr>\n",
       "    <tr>\n",
       "      <th>24</th>\n",
       "      <td>/tts_finetuning/notebooks/ft_datapropio/style_...</td>\n",
       "      <td>Vía, reforosco, le tocaba hasta el pantalón. Y...</td>\n",
       "      <td>bˈia, ɾɾˌefoɾˈosko, le tokˈaβa ˌasta el pˌanta...</td>\n",
       "    </tr>\n",
       "    <tr>\n",
       "      <th>25</th>\n",
       "      <td>/tts_finetuning/notebooks/ft_datapropio/style_...</td>\n",
       "      <td>El que no te guste es detallita, pero el otro ...</td>\n",
       "      <td>el ke nˈo te ɣˈuste ˈes ðˌetajjˈita, pˌeɾo el ...</td>\n",
       "    </tr>\n",
       "    <tr>\n",
       "      <th>26</th>\n",
       "      <td>/tts_finetuning/notebooks/ft_datapropio/style_...</td>\n",
       "      <td>Ellos escucho que la gente dice que al que le ...</td>\n",
       "      <td>ˈejjos eskˈutʃo ke la xˈɛnte ðˈise ke al ke le...</td>\n",
       "    </tr>\n",
       "    <tr>\n",
       "      <th>27</th>\n",
       "      <td>/tts_finetuning/notebooks/ft_datapropio/style_...</td>\n",
       "      <td>y los primeros que escuché yo, que son un que ...</td>\n",
       "      <td>i los pɾimˈeɾos ke ˌeskutʃˈe ʝˈo, ke sˈon ˈun ...</td>\n",
       "    </tr>\n",
       "    <tr>\n",
       "      <th>28</th>\n",
       "      <td>/tts_finetuning/notebooks/ft_datapropio/style_...</td>\n",
       "      <td>Hola, ¿qué tal? Yo soy el topi y así es el del...</td>\n",
       "      <td>ˈola, ¿kˈe tˈal? ʝˈo sˈoɪ el tˈopi i asˈi ˈes ...</td>\n",
       "    </tr>\n",
       "    <tr>\n",
       "      <th>29</th>\n",
       "      <td>/tts_finetuning/notebooks/ft_datapropio/style_...</td>\n",
       "      <td>yo no sé si ustedes hacen esto no, pero yo en ...</td>\n",
       "      <td>ʝˈo nˈo sˈe si ustˈeðes ˈasen ˈesto nˈo, pˌeɾo...</td>\n",
       "    </tr>\n",
       "    <tr>\n",
       "      <th>30</th>\n",
       "      <td>/tts_finetuning/notebooks/ft_datapropio/style_...</td>\n",
       "      <td>El primer tema que voy a tocar es cómo llega l...</td>\n",
       "      <td>el pɾimˈeɾ tˈema ke βˈoɪ a tokˈaɾ ˈes kˈomo ʝˈ...</td>\n",
       "    </tr>\n",
       "    <tr>\n",
       "      <th>31</th>\n",
       "      <td>/tts_finetuning/notebooks/ft_datapropio/style_...</td>\n",
       "      <td>Más o menos cuánto puede generar diomédes días...</td>\n",
       "      <td>mˈas o mˈenos kwˈanto pwˈeðe xˌeneɾˈaɾ ðjomˈeð...</td>\n",
       "    </tr>\n",
       "    <tr>\n",
       "      <th>32</th>\n",
       "      <td>/tts_finetuning/notebooks/ft_datapropio/style_...</td>\n",
       "      <td>¡Arabo a mí o un mes! No, ah, digo que encontr...</td>\n",
       "      <td>¡aɾˈaβo a mˈi o ˈun mˈes! nˈo, ˈa, dˈiɣo ke ˌe...</td>\n",
       "    </tr>\n",
       "    <tr>\n",
       "      <th>33</th>\n",
       "      <td>/tts_finetuning/notebooks/ft_datapropio/style_...</td>\n",
       "      <td>No me da la hijo de puta gana de cogey, poste ...</td>\n",
       "      <td>nˈo me ðˈa la ˈixo ðe pˈuta ɣˈana ðe koxˈeɪ, p...</td>\n",
       "    </tr>\n",
       "    <tr>\n",
       "      <th>34</th>\n",
       "      <td>/tts_finetuning/notebooks/ft_datapropio/style_...</td>\n",
       "      <td>me gusta yo una pregunta me digo cuando caro l...</td>\n",
       "      <td>me ɣˈusta ʝˈo ˈuna pɾeɣˈunta me ðˈiɣo kwˌando ...</td>\n",
       "    </tr>\n",
       "    <tr>\n",
       "      <th>35</th>\n",
       "      <td>/tts_finetuning/notebooks/ft_datapropio/style_...</td>\n",
       "      <td>Bueno, si fue a Yoharro, salgo y han malavugad...</td>\n",
       "      <td>bwˈeno, si fwˈe a ʝoˈaɾɾo, sˈalɣo i ˈan mˌalaβ...</td>\n",
       "    </tr>\n",
       "  </tbody>\n",
       "</table>\n",
       "</div>"
      ],
      "text/plain": [
       "                                             filename  \\\n",
       "0   /tts_finetuning/notebooks/ft_datapropio/style_...   \n",
       "1   /tts_finetuning/notebooks/ft_datapropio/style_...   \n",
       "2   /tts_finetuning/notebooks/ft_datapropio/style_...   \n",
       "3   /tts_finetuning/notebooks/ft_datapropio/style_...   \n",
       "4   /tts_finetuning/notebooks/ft_datapropio/style_...   \n",
       "5   /tts_finetuning/notebooks/ft_datapropio/style_...   \n",
       "6   /tts_finetuning/notebooks/ft_datapropio/style_...   \n",
       "7   /tts_finetuning/notebooks/ft_datapropio/style_...   \n",
       "8   /tts_finetuning/notebooks/ft_datapropio/style_...   \n",
       "9   /tts_finetuning/notebooks/ft_datapropio/style_...   \n",
       "10  /tts_finetuning/notebooks/ft_datapropio/style_...   \n",
       "11  /tts_finetuning/notebooks/ft_datapropio/style_...   \n",
       "12  /tts_finetuning/notebooks/ft_datapropio/style_...   \n",
       "13  /tts_finetuning/notebooks/ft_datapropio/style_...   \n",
       "14  /tts_finetuning/notebooks/ft_datapropio/style_...   \n",
       "15  /tts_finetuning/notebooks/ft_datapropio/style_...   \n",
       "16  /tts_finetuning/notebooks/ft_datapropio/style_...   \n",
       "17  /tts_finetuning/notebooks/ft_datapropio/style_...   \n",
       "18  /tts_finetuning/notebooks/ft_datapropio/style_...   \n",
       "19  /tts_finetuning/notebooks/ft_datapropio/style_...   \n",
       "20  /tts_finetuning/notebooks/ft_datapropio/style_...   \n",
       "21  /tts_finetuning/notebooks/ft_datapropio/style_...   \n",
       "22  /tts_finetuning/notebooks/ft_datapropio/style_...   \n",
       "23  /tts_finetuning/notebooks/ft_datapropio/style_...   \n",
       "24  /tts_finetuning/notebooks/ft_datapropio/style_...   \n",
       "25  /tts_finetuning/notebooks/ft_datapropio/style_...   \n",
       "26  /tts_finetuning/notebooks/ft_datapropio/style_...   \n",
       "27  /tts_finetuning/notebooks/ft_datapropio/style_...   \n",
       "28  /tts_finetuning/notebooks/ft_datapropio/style_...   \n",
       "29  /tts_finetuning/notebooks/ft_datapropio/style_...   \n",
       "30  /tts_finetuning/notebooks/ft_datapropio/style_...   \n",
       "31  /tts_finetuning/notebooks/ft_datapropio/style_...   \n",
       "32  /tts_finetuning/notebooks/ft_datapropio/style_...   \n",
       "33  /tts_finetuning/notebooks/ft_datapropio/style_...   \n",
       "34  /tts_finetuning/notebooks/ft_datapropio/style_...   \n",
       "35  /tts_finetuning/notebooks/ft_datapropio/style_...   \n",
       "\n",
       "                                        transcription  \\\n",
       "0   ¡Oh padre, si usted está saliendo con una much...   \n",
       "1   No te lo puedo creer, esto no puede ser posibl...   \n",
       "2   ¡Ay, Ofendigo! Definitivamente, el peor día de...   \n",
       "3   yo quiero saber en qué parte de la vida dice q...   \n",
       "4   me gustaba drogarme la después que yo tuviera ...   \n",
       "5   Hay muchos chachos algunos, ustedes saben acer...   \n",
       "6   al cuánto tiempo de unos influences de recuno ...   \n",
       "7   Estaba parqueando sus carros allá, era la casa...   \n",
       "8   cosa que no me gusta que la gente publique en ...   \n",
       "9   No hubiese puerto, tú crees que estarías dedic...   \n",
       "10  Yo no sé si será castigo de Dios, mi hermano, ...   \n",
       "11  No jodí que la plata daña, que me dañe, a mí l...   \n",
       "12  Claro, cuando yo veo toda esa banda, yo lo pri...   \n",
       "13  En mi época te rulense, mientras yo andaba a l...   \n",
       "14  Que pasó lo que pasó cuando sigo invito, que a...   \n",
       "15  Oye, yo creo que hay algo en esta vida que yo ...   \n",
       "16  Nos jodas y a nosotros los costeños nos llegan...   \n",
       "17  Yo creo mucho en el universo, Molucco. Pero 10...   \n",
       "18  Ay un poco gente ofendido por lo que está pasa...   \n",
       "19  Y es verdad que una vez también de rabia rompi...   \n",
       "20  te escriben y que hola y uno hola, que me cuen...   \n",
       "21  Bueno, voy a poner una denuncia pública porque...   \n",
       "22  A todo Martinsito les dieron duro cuando comen...   \n",
       "23  ¡Tarlai de 545! ¡Ey, mano! ¡Cierra la puerta q...   \n",
       "24  Vía, reforosco, le tocaba hasta el pantalón. Y...   \n",
       "25  El que no te guste es detallita, pero el otro ...   \n",
       "26  Ellos escucho que la gente dice que al que le ...   \n",
       "27  y los primeros que escuché yo, que son un que ...   \n",
       "28  Hola, ¿qué tal? Yo soy el topi y así es el del...   \n",
       "29  yo no sé si ustedes hacen esto no, pero yo en ...   \n",
       "30  El primer tema que voy a tocar es cómo llega l...   \n",
       "31  Más o menos cuánto puede generar diomédes días...   \n",
       "32  ¡Arabo a mí o un mes! No, ah, digo que encontr...   \n",
       "33  No me da la hijo de puta gana de cogey, poste ...   \n",
       "34  me gusta yo una pregunta me digo cuando caro l...   \n",
       "35  Bueno, si fue a Yoharro, salgo y han malavugad...   \n",
       "\n",
       "                                             phonemes  \n",
       "0   ¡ˈo pˈaðɾe, si ustˈeð estˈa saljˈɛndo kon ˈuna...  \n",
       "1   nˈo te lo pwˈeðo kɾeˈeɾ, ˈesto nˈo pwˈeðe sˈer...  \n",
       "2   ¡ˈaɪ, ˌofendˈiɣo! dˌefinitˈiβamˈente, el peˈoɾ...  \n",
       "3   ʝˈo kjˈeɾo saβˈeɾ en kˈe pˈaɾte ðe la βˈiða ðˈ...  \n",
       "4   me ɣustˈaβa ðɾoɣˈaɾme la ðespwˈes ke ʝˈo tuβjˈ...  \n",
       "5   ˈaɪ mˈutʃos tʃˈatʃos alɣˈunos, ustˈeðes sˈaβen...  \n",
       "6   al kwˈanto tjˈempo ðe ˈunos ˌimfluˈɛnses ðe ɾɾ...  \n",
       "7   estˈaβa pˌaɾkeˈando sus kˈaɾɾos ajjˈa, ˈeɾa la...  \n",
       "8   kˈosa ke nˈo me ɣˈusta ke la xˈɛnte puβlˈike e...  \n",
       "9   nˈo uβjˈese pwˈeɾto, tˈu kɾˈees ke ˌestaɾˈias ...  \n",
       "10  ʝˈo nˈo sˈe si seɾˈa kastˈiɣo ðe ðjˈos, mi eɾm...  \n",
       "11  nˈo xoðˈi ke la plˈata ðˈaɲa, ke me ðˈaɲe, a m...  \n",
       "12  klˈaɾo, kwˌando ʝˈo βˈeo tˈoða ˈesa βˈanda, ʝˈ...  \n",
       "13  en mi ˈepoka te ɾɾulˈɛnse, mjˌentɾas ʝˈo andˈa...  \n",
       "14  ke pasˈo lo ke pasˈo kwˌando sˈiɣo imbˈito, ke...  \n",
       "15  ˈojje, ʝˈo kɾˈeo ke ˈaɪ ˈalɣo en ˈesta βˈiða k...  \n",
       "16  nos xˈoðas i a nosˈotɾos los kostˈeɲos nos ʝˈe...  \n",
       "17  ʝˈo kɾˈeo mˈutʃo en el ˌuniβˈeɾso, molˈukko. p...  \n",
       "18  ˈaɪ ˈum pˈoko xˈɛnte ˌofendˈiðo poɾ lo ke estˈ...  \n",
       "19  i ˈes βeɾðˈad ke ˈuna βˈes tambjˈen de ɾɾˈaβja...  \n",
       "20  te eskɾˈiβen i ke ˈola i ˈuno ˈola, ke me kwˈɛ...  \n",
       "21  bwˈeno, bˈoɪ a ponˈeɾ ˈuna ðenˈunsja pˈuβlika ...  \n",
       "22  a tˈoðo mˌaɾtinsˈito les ðjˈeɾon dˈuɾo kwˌando...  \n",
       "23  ¡tˈaɾlaɪ ðe kinjˈɛntos kwaɾˌɛntaisˈinko! ¡ˈeɪ,...  \n",
       "24  bˈia, ɾɾˌefoɾˈosko, le tokˈaβa ˌasta el pˌanta...  \n",
       "25  el ke nˈo te ɣˈuste ˈes ðˌetajjˈita, pˌeɾo el ...  \n",
       "26  ˈejjos eskˈutʃo ke la xˈɛnte ðˈise ke al ke le...  \n",
       "27  i los pɾimˈeɾos ke ˌeskutʃˈe ʝˈo, ke sˈon ˈun ...  \n",
       "28  ˈola, ¿kˈe tˈal? ʝˈo sˈoɪ el tˈopi i asˈi ˈes ...  \n",
       "29  ʝˈo nˈo sˈe si ustˈeðes ˈasen ˈesto nˈo, pˌeɾo...  \n",
       "30  el pɾimˈeɾ tˈema ke βˈoɪ a tokˈaɾ ˈes kˈomo ʝˈ...  \n",
       "31  mˈas o mˈenos kwˈanto pwˈeðe xˌeneɾˈaɾ ðjomˈeð...  \n",
       "32  ¡aɾˈaβo a mˈi o ˈun mˈes! nˈo, ˈa, dˈiɣo ke ˌe...  \n",
       "33  nˈo me ðˈa la ˈixo ðe pˈuta ɣˈana ðe koxˈeɪ, p...  \n",
       "34  me ɣˈusta ʝˈo ˈuna pɾeɣˈunta me ðˈiɣo kwˌando ...  \n",
       "35  bwˈeno, si fwˈe a ʝoˈaɾɾo, sˈalɣo i ˈan mˌalaβ...  "
      ]
     },
     "execution_count": 62,
     "metadata": {},
     "output_type": "execute_result"
    }
   ],
   "source": [
    "df"
   ]
  },
  {
   "cell_type": "code",
   "execution_count": null,
   "id": "a8304d17-3bbd-4cdb-be38-cdabc7c9b2c2",
   "metadata": {},
   "outputs": [],
   "source": [
    "df['filename'] = df[\"filename\"].apply(lambda x: x.replace(\"/tts_finetuning/notebooks/ft_datapropio/style_lite/audios_caleño_costeño_wav/base/\", \"\"))"
   ]
  },
  {
   "cell_type": "code",
   "execution_count": null,
   "id": "e2b7a8db-1c25-4edf-a73d-367a20150d8a",
   "metadata": {
    "scrolled": true
   },
   "outputs": [],
   "source": [
    "df"
   ]
  },
  {
   "cell_type": "code",
   "execution_count": null,
   "id": "5ffacdf7-4442-4bea-90d9-4aef2d88a7df",
   "metadata": {},
   "outputs": [],
   "source": []
  },
  {
   "cell_type": "code",
   "execution_count": 60,
   "id": "5ffa297a-5b4e-4c86-accc-91bdb150c31d",
   "metadata": {
    "execution": {
     "iopub.execute_input": "2025-06-12T07:18:41.953406Z",
     "iopub.status.busy": "2025-06-12T07:18:41.953187Z",
     "iopub.status.idle": "2025-06-12T07:18:41.955616Z",
     "shell.execute_reply": "2025-06-12T07:18:41.955220Z",
     "shell.execute_reply.started": "2025-06-12T07:18:41.953392Z"
    }
   },
   "outputs": [],
   "source": [
    "src_folder = './ft_datapropio/style_lite/audios_costeno_wav/wav_24kHz/valledupar/hombre'\n",
    "src_audios = os.path.join(src_folder, 'wavs')"
   ]
  },
  {
   "cell_type": "code",
   "execution_count": 61,
   "id": "c8eb083d-64c6-4e54-9dfa-af8a220ce190",
   "metadata": {
    "execution": {
     "iopub.execute_input": "2025-06-12T07:18:41.956275Z",
     "iopub.status.busy": "2025-06-12T07:18:41.956059Z",
     "iopub.status.idle": "2025-06-12T07:18:41.958896Z",
     "shell.execute_reply": "2025-06-12T07:18:41.958497Z",
     "shell.execute_reply.started": "2025-06-12T07:18:41.956261Z"
    }
   },
   "outputs": [
    {
     "name": "stdout",
     "output_type": "stream",
     "text": [
      "./ft_datapropio/style_lite/audios_costeno_wav/wav_24kHz/valledupar/hombre/wavs\n"
     ]
    }
   ],
   "source": [
    "print(src_audios)"
   ]
  },
  {
   "cell_type": "code",
   "execution_count": null,
   "id": "a3f01897-e95d-4b3c-a05a-001a282cc121",
   "metadata": {},
   "outputs": [],
   "source": [
    "df_train = pd.read_csv(os.path.join(src_folder, 'df_train.csv'))\n",
    "df_train"
   ]
  },
  {
   "cell_type": "code",
   "execution_count": null,
   "id": "4d137826-5ff9-444a-9dbc-396c5beae494",
   "metadata": {},
   "outputs": [],
   "source": [
    "df_val = pd.read_csv(os.path.join(src_folder, 'df_test.csv'))\n",
    "df_val"
   ]
  },
  {
   "cell_type": "code",
   "execution_count": 11,
   "id": "fb6b1f1c-e657-4146-84d7-9369da5577c0",
   "metadata": {},
   "outputs": [],
   "source": [
    "with open('Data_Speech/train.txt', 'w') as text_file:\n",
    "    for idx, row in df_train.iterrows():\n",
    "        n_line = f\"{os.path.abspath(os.path.join(src_audios, row['filename']))}|{row['phonemes'].strip()}\"\n",
    "        text_file.write(f'{n_line}\\n')"
   ]
  },
  {
   "cell_type": "code",
   "execution_count": 13,
   "id": "7f04f27f-2b8c-46e6-90e0-07b88a79479a",
   "metadata": {},
   "outputs": [],
   "source": [
    "with open('Data_Speech/val.txt', 'w') as text_file:\n",
    "    for idx, row in df_val.iterrows():\n",
    "        n_line = f\"{os.path.abspath(os.path.join(src_audios, row['filename']))}|{row['phonemes'].strip()}\"\n",
    "        text_file.write(f'{n_line}\\n')"
   ]
  },
  {
   "cell_type": "code",
   "execution_count": 10,
   "id": "479d96c6-d48d-4cca-9375-4022498b903a",
   "metadata": {},
   "outputs": [
    {
     "name": "stdout",
     "output_type": "stream",
     "text": [
      "/home/paisa-ft/StyleTTS2-lite\n"
     ]
    }
   ],
   "source": [
    "!pwd"
   ]
  },
  {
   "cell_type": "markdown",
   "id": "15e050dd-d5ac-4563-a077-71b6e55f908e",
   "metadata": {},
   "source": [
    "# Split audios"
   ]
  },
  {
   "cell_type": "code",
   "execution_count": 13,
   "id": "86b5af5f-e7d6-4932-92ed-fc1e72a5c163",
   "metadata": {
    "execution": {
     "iopub.execute_input": "2025-06-12T04:09:45.742381Z",
     "iopub.status.busy": "2025-06-12T04:09:45.741856Z",
     "iopub.status.idle": "2025-06-12T04:09:45.748740Z",
     "shell.execute_reply": "2025-06-12T04:09:45.748179Z",
     "shell.execute_reply.started": "2025-06-12T04:09:45.742365Z"
    }
   },
   "outputs": [],
   "source": [
    "from pydub import AudioSegment\n",
    "from faster_whisper import WhisperModel"
   ]
  },
  {
   "cell_type": "code",
   "execution_count": 23,
   "id": "a4e18478-134c-4d25-a545-c4cf3b60a868",
   "metadata": {
    "execution": {
     "iopub.execute_input": "2025-06-12T04:21:11.378093Z",
     "iopub.status.busy": "2025-06-12T04:21:11.377729Z",
     "iopub.status.idle": "2025-06-12T04:21:11.380939Z",
     "shell.execute_reply": "2025-06-12T04:21:11.380364Z",
     "shell.execute_reply.started": "2025-06-12T04:21:11.378078Z"
    }
   },
   "outputs": [],
   "source": [
    "target_split = '/storage/services/ft_datapropio/style_lite/audios_paisa_wav/base3_mujer/wav_24kHz'"
   ]
  },
  {
   "cell_type": "code",
   "execution_count": 14,
   "id": "23ff9631-347e-455a-b7e7-1684d81fa725",
   "metadata": {
    "execution": {
     "iopub.execute_input": "2025-06-12T04:09:49.458838Z",
     "iopub.status.busy": "2025-06-12T04:09:49.458472Z",
     "iopub.status.idle": "2025-06-12T04:09:54.373550Z",
     "shell.execute_reply": "2025-06-12T04:09:54.372819Z",
     "shell.execute_reply.started": "2025-06-12T04:09:49.458825Z"
    }
   },
   "outputs": [
    {
     "data": {
      "application/vnd.jupyter.widget-view+json": {
       "model_id": "65ce0bcdecab4cdd9ed704e0ec4e981e",
       "version_major": 2,
       "version_minor": 0
      },
      "text/plain": [
       "model.bin:   0%|          | 0.00/145M [00:00<?, ?B/s]"
      ]
     },
     "metadata": {},
     "output_type": "display_data"
    },
    {
     "data": {
      "application/vnd.jupyter.widget-view+json": {
       "model_id": "cc5fa9060762402eb9909a450aa74d06",
       "version_major": 2,
       "version_minor": 0
      },
      "text/plain": [
       "config.json:   0%|          | 0.00/2.31k [00:00<?, ?B/s]"
      ]
     },
     "metadata": {},
     "output_type": "display_data"
    },
    {
     "data": {
      "application/vnd.jupyter.widget-view+json": {
       "model_id": "00bd5957e40e412eb453191f33d9674a",
       "version_major": 2,
       "version_minor": 0
      },
      "text/plain": [
       "tokenizer.json:   0%|          | 0.00/2.20M [00:00<?, ?B/s]"
      ]
     },
     "metadata": {},
     "output_type": "display_data"
    },
    {
     "data": {
      "application/vnd.jupyter.widget-view+json": {
       "model_id": "9ba7f770bb5841a5b784b02979e6567a",
       "version_major": 2,
       "version_minor": 0
      },
      "text/plain": [
       "vocabulary.txt:   0%|          | 0.00/460k [00:00<?, ?B/s]"
      ]
     },
     "metadata": {},
     "output_type": "display_data"
    },
    {
     "name": "stderr",
     "output_type": "stream",
     "text": [
      "[2025-06-12 04:09:54.308] [ctranslate2] [thread 37] [warning] The compute type inferred from the saved model is float16, but the target device or backend do not support efficient float16 computation. The model weights have been automatically converted to use the float32 compute type instead.\n"
     ]
    }
   ],
   "source": [
    "model = WhisperModel(\"base\", device=\"cpu\")"
   ]
  },
  {
   "cell_type": "code",
   "execution_count": 15,
   "id": "f5ae699c-a9f1-49b5-b12f-0326da2cc3b1",
   "metadata": {
    "execution": {
     "iopub.execute_input": "2025-06-12T04:09:58.715762Z",
     "iopub.status.busy": "2025-06-12T04:09:58.715352Z",
     "iopub.status.idle": "2025-06-12T04:09:58.722039Z",
     "shell.execute_reply": "2025-06-12T04:09:58.721458Z",
     "shell.execute_reply.started": "2025-06-12T04:09:58.715746Z"
    }
   },
   "outputs": [],
   "source": [
    "def split_audio(audio_path, max_duration_secs, output_dir):\n",
    "    segments_generator, _ = model.transcribe(audio_path, word_timestamps=True, language='es')\n",
    "    segments = list(segments_generator)\n",
    "    \n",
    "    filename = os.path.splitext(os.path.basename(audio_path))[0]\n",
    "\n",
    "    ans = {\n",
    "        'filename': [],\n",
    "        'transcription': []\n",
    "    }\n",
    "    \n",
    "    for max_duration_sec in max_duration_secs:\n",
    "        cnt = 0\n",
    "        blocks = []\n",
    "        transcriptions = []\n",
    "        current_block = []\n",
    "        current_duration = 0.0\n",
    "        current_text = []\n",
    "    \n",
    "        for segment in segments:\n",
    "            for word_info in segment.words:\n",
    "                word = word_info.word.strip()\n",
    "                start = word_info.start\n",
    "                end = word_info.end\n",
    "                word_duration = end - start\n",
    "    \n",
    "                if current_duration + word_duration > max_duration_sec:\n",
    "                    if current_block:\n",
    "                        blocks.append(current_block)\n",
    "                        transcriptions.append(' '.join(current_text))\n",
    "                    current_block = [word_info]\n",
    "                    current_duration = 0.0\n",
    "                    current_text = [word]\n",
    "                else:\n",
    "                    current_block.append(word_info)\n",
    "                    current_text.append(word)\n",
    "                    current_duration += word_duration\n",
    "                    \n",
    "        if current_block:\n",
    "            blocks.append(current_block)\n",
    "            transcriptions.append(' '.join(current_text))\n",
    "        \n",
    "        audio = AudioSegment.from_file(audio_path)\n",
    "        for i, (block, text) in enumerate(zip(blocks, transcriptions)):\n",
    "            start_ms = int(block[0].start * 1000)\n",
    "            end_ms = int(block[-1].end * 1000)\n",
    "            audio_segment = audio[start_ms:end_ms]\n",
    "            \n",
    "            output_filename = f\"{filename}_{cnt+1}_{max_duration_sec}.wav\"\n",
    "            output_file = os.path.join(output_dir, output_filename)\n",
    "            cnt += 1\n",
    "            audio_segment.export(output_file, format=\"wav\")\n",
    "\n",
    "            ans['filename'].append(output_filename)\n",
    "            ans['transcription'].append(text.lower())\n",
    "            \n",
    "            # print(f\"Saving: {output_file} ({(end_ms - start_ms)/1000:.2f} seconds) with text: {text}\")\n",
    "    return ans"
   ]
  },
  {
   "cell_type": "code",
   "execution_count": 63,
   "id": "51ae5b04-f2a9-4948-bc99-bc9f3bcf3bb6",
   "metadata": {
    "execution": {
     "iopub.execute_input": "2025-06-12T07:22:11.205639Z",
     "iopub.status.busy": "2025-06-12T07:22:11.205300Z",
     "iopub.status.idle": "2025-06-12T07:22:12.649397Z",
     "shell.execute_reply": "2025-06-12T07:22:12.648794Z",
     "shell.execute_reply.started": "2025-06-12T07:22:11.205625Z"
    },
    "scrolled": true
   },
   "outputs": [
    {
     "data": {
      "text/html": [
       "<div>\n",
       "<style scoped>\n",
       "    .dataframe tbody tr th:only-of-type {\n",
       "        vertical-align: middle;\n",
       "    }\n",
       "\n",
       "    .dataframe tbody tr th {\n",
       "        vertical-align: top;\n",
       "    }\n",
       "\n",
       "    .dataframe thead th {\n",
       "        text-align: right;\n",
       "    }\n",
       "</style>\n",
       "<table border=\"1\" class=\"dataframe\">\n",
       "  <thead>\n",
       "    <tr style=\"text-align: right;\">\n",
       "      <th></th>\n",
       "      <th>filename</th>\n",
       "      <th>transcription</th>\n",
       "    </tr>\n",
       "  </thead>\n",
       "  <tbody>\n",
       "    <tr>\n",
       "      <th>0</th>\n",
       "      <td>713b7c4baf2c7b0742447c1ded7c0913_1_5.wav</td>\n",
       "      <td>¡oh padre, si usted está saliendo con una much...</td>\n",
       "    </tr>\n",
       "    <tr>\n",
       "      <th>1</th>\n",
       "      <td>713b7c4baf2c7b0742447c1ded7c0913_2_5.wav</td>\n",
       "      <td>es mi templo que yo no se lo entrego a cualqui...</td>\n",
       "    </tr>\n",
       "    <tr>\n",
       "      <th>2</th>\n",
       "      <td>713b7c4baf2c7b0742447c1ded7c0913_3_5.wav</td>\n",
       "      <td>más palo que caratía para dar lo primo, pero e...</td>\n",
       "    </tr>\n",
       "  </tbody>\n",
       "</table>\n",
       "</div>"
      ],
      "text/plain": [
       "                                   filename  \\\n",
       "0  713b7c4baf2c7b0742447c1ded7c0913_1_5.wav   \n",
       "1  713b7c4baf2c7b0742447c1ded7c0913_2_5.wav   \n",
       "2  713b7c4baf2c7b0742447c1ded7c0913_3_5.wav   \n",
       "\n",
       "                                       transcription  \n",
       "0  ¡oh padre, si usted está saliendo con una much...  \n",
       "1  es mi templo que yo no se lo entrego a cualqui...  \n",
       "2  más palo que caratía para dar lo primo, pero e...  "
      ]
     },
     "execution_count": 63,
     "metadata": {},
     "output_type": "execute_result"
    }
   ],
   "source": [
    "aux_data = split_audio(\n",
    "    audio_path=os.path.join(src_audios, df.iloc[0]['filename']),\n",
    "    max_duration_secs=[5],\n",
    "    output_dir='./ft_datapropio/style_lite/audios_costeno_wav/wav_24kHz/valledupar'\n",
    ")\n",
    "\n",
    "pd.DataFrame(aux_data)"
   ]
  },
  {
   "cell_type": "code",
   "execution_count": 64,
   "id": "d1c9e1c7-10d1-4e71-96cc-d9ac4a2d6ad5",
   "metadata": {
    "execution": {
     "iopub.execute_input": "2025-06-12T07:22:39.178772Z",
     "iopub.status.busy": "2025-06-12T07:22:39.178124Z",
     "iopub.status.idle": "2025-06-12T07:25:34.367626Z",
     "shell.execute_reply": "2025-06-12T07:25:34.366897Z",
     "shell.execute_reply.started": "2025-06-12T07:22:39.178754Z"
    }
   },
   "outputs": [
    {
     "data": {
      "text/html": [
       "<div>\n",
       "<style scoped>\n",
       "    .dataframe tbody tr th:only-of-type {\n",
       "        vertical-align: middle;\n",
       "    }\n",
       "\n",
       "    .dataframe tbody tr th {\n",
       "        vertical-align: top;\n",
       "    }\n",
       "\n",
       "    .dataframe thead th {\n",
       "        text-align: right;\n",
       "    }\n",
       "</style>\n",
       "<table border=\"1\" class=\"dataframe\">\n",
       "  <thead>\n",
       "    <tr style=\"text-align: right;\">\n",
       "      <th></th>\n",
       "      <th>filename</th>\n",
       "      <th>transcription</th>\n",
       "    </tr>\n",
       "  </thead>\n",
       "  <tbody>\n",
       "    <tr>\n",
       "      <th>0</th>\n",
       "      <td>713b7c4baf2c7b0742447c1ded7c0913_1_2.wav</td>\n",
       "      <td>¡oh padre, si usted está saliendo con una much...</td>\n",
       "    </tr>\n",
       "    <tr>\n",
       "      <th>1</th>\n",
       "      <td>713b7c4baf2c7b0742447c1ded7c0913_2_2.wav</td>\n",
       "      <td>y esta muchacha se llega a la boca diciendo no</td>\n",
       "    </tr>\n",
       "    <tr>\n",
       "      <th>2</th>\n",
       "      <td>713b7c4baf2c7b0742447c1ded7c0913_3_2.wav</td>\n",
       "      <td>que mi cuerpo es mi templo que yo no se</td>\n",
       "    </tr>\n",
       "    <tr>\n",
       "      <th>3</th>\n",
       "      <td>713b7c4baf2c7b0742447c1ded7c0913_4_2.wav</td>\n",
       "      <td>lo entrego a cualquiera vea, uya,</td>\n",
       "    </tr>\n",
       "    <tr>\n",
       "      <th>4</th>\n",
       "      <td>713b7c4baf2c7b0742447c1ded7c0913_5_2.wav</td>\n",
       "      <td>uya porque esa mujer llevaba más palo que caratía</td>\n",
       "    </tr>\n",
       "    <tr>\n",
       "      <th>...</th>\n",
       "      <td>...</td>\n",
       "      <td>...</td>\n",
       "    </tr>\n",
       "    <tr>\n",
       "      <th>1012</th>\n",
       "      <td>a28fb41b758f81422807d4e0831fec51_7_10.wav</td>\n",
       "      <td>normal no te preocupen el peor de lo caso que ...</td>\n",
       "    </tr>\n",
       "    <tr>\n",
       "      <th>1013</th>\n",
       "      <td>a28fb41b758f81422807d4e0831fec51_8_10.wav</td>\n",
       "      <td>mix también claro ellos se enteran de todo el ...</td>\n",
       "    </tr>\n",
       "    <tr>\n",
       "      <th>1014</th>\n",
       "      <td>a28fb41b758f81422807d4e0831fec51_9_10.wav</td>\n",
       "      <td>video por eso el principio porque me causa gra...</td>\n",
       "    </tr>\n",
       "    <tr>\n",
       "      <th>1015</th>\n",
       "      <td>a28fb41b758f81422807d4e0831fec51_10_10.wav</td>\n",
       "      <td>ha fui yo por el tema la demandemos el partido...</td>\n",
       "    </tr>\n",
       "    <tr>\n",
       "      <th>1016</th>\n",
       "      <td>a28fb41b758f81422807d4e0831fec51_11_10.wav</td>\n",
       "      <td>y claro pues vamos a dar que lo armado</td>\n",
       "    </tr>\n",
       "  </tbody>\n",
       "</table>\n",
       "<p>1017 rows × 2 columns</p>\n",
       "</div>"
      ],
      "text/plain": [
       "                                        filename  \\\n",
       "0       713b7c4baf2c7b0742447c1ded7c0913_1_2.wav   \n",
       "1       713b7c4baf2c7b0742447c1ded7c0913_2_2.wav   \n",
       "2       713b7c4baf2c7b0742447c1ded7c0913_3_2.wav   \n",
       "3       713b7c4baf2c7b0742447c1ded7c0913_4_2.wav   \n",
       "4       713b7c4baf2c7b0742447c1ded7c0913_5_2.wav   \n",
       "...                                          ...   \n",
       "1012   a28fb41b758f81422807d4e0831fec51_7_10.wav   \n",
       "1013   a28fb41b758f81422807d4e0831fec51_8_10.wav   \n",
       "1014   a28fb41b758f81422807d4e0831fec51_9_10.wav   \n",
       "1015  a28fb41b758f81422807d4e0831fec51_10_10.wav   \n",
       "1016  a28fb41b758f81422807d4e0831fec51_11_10.wav   \n",
       "\n",
       "                                          transcription  \n",
       "0     ¡oh padre, si usted está saliendo con una much...  \n",
       "1        y esta muchacha se llega a la boca diciendo no  \n",
       "2               que mi cuerpo es mi templo que yo no se  \n",
       "3                     lo entrego a cualquiera vea, uya,  \n",
       "4     uya porque esa mujer llevaba más palo que caratía  \n",
       "...                                                 ...  \n",
       "1012  normal no te preocupen el peor de lo caso que ...  \n",
       "1013  mix también claro ellos se enteran de todo el ...  \n",
       "1014  video por eso el principio porque me causa gra...  \n",
       "1015  ha fui yo por el tema la demandemos el partido...  \n",
       "1016             y claro pues vamos a dar que lo armado  \n",
       "\n",
       "[1017 rows x 2 columns]"
      ]
     },
     "execution_count": 64,
     "metadata": {},
     "output_type": "execute_result"
    }
   ],
   "source": [
    "data_split_train = pd.DataFrame(\n",
    "    {\n",
    "        'filename': [],\n",
    "        'transcription': []\n",
    "    }\n",
    ")\n",
    "\n",
    "for idx, row in df.iterrows():\n",
    "    aux_data = split_audio(\n",
    "        audio_path=os.path.join(src_audios, row['filename']),\n",
    "        max_duration_secs=[2, 5, 7, 10],\n",
    "        output_dir='./ft_datapropio/style_lite/audios_costeno_wav/wav_24kHz/valledupar/hombre'\n",
    "    )\n",
    "    if len(data_split_train) == 0:\n",
    "        data_split_train = pd.DataFrame(aux_data)\n",
    "    else:\n",
    "        data_split_train = pd.concat([data_split_train, pd.DataFrame(aux_data)], ignore_index=True)\n",
    "\n",
    "data_split_train"
   ]
  },
  {
   "cell_type": "code",
   "execution_count": 17,
   "id": "622ebb48-b11b-44b8-a8d7-f808abeaf676",
   "metadata": {
    "execution": {
     "iopub.execute_input": "2025-06-12T04:10:29.049368Z",
     "iopub.status.busy": "2025-06-12T04:10:29.049034Z",
     "iopub.status.idle": "2025-06-12T04:10:29.076585Z",
     "shell.execute_reply": "2025-06-12T04:10:29.075972Z",
     "shell.execute_reply.started": "2025-06-12T04:10:29.049351Z"
    }
   },
   "outputs": [],
   "source": [
    "my_phonemizer = phonemizer.backend.EspeakBackend(language='es-419', preserve_punctuation=True,  with_stress=True, language_switch='remove-flags')\n",
    "def get_phoneme(text):\n",
    "    try:\n",
    "        return my_phonemizer.phonemize([text])[0]\n",
    "    except Exception as e:\n",
    "        print(e)"
   ]
  },
  {
   "cell_type": "code",
   "execution_count": 65,
   "id": "aa917afa-0330-4ac8-9731-6190f2218824",
   "metadata": {
    "execution": {
     "iopub.execute_input": "2025-06-12T07:25:34.368759Z",
     "iopub.status.busy": "2025-06-12T07:25:34.368588Z",
     "iopub.status.idle": "2025-06-12T07:25:34.522353Z",
     "shell.execute_reply": "2025-06-12T07:25:34.521860Z",
     "shell.execute_reply.started": "2025-06-12T07:25:34.368742Z"
    }
   },
   "outputs": [
    {
     "data": {
      "text/html": [
       "<div>\n",
       "<style scoped>\n",
       "    .dataframe tbody tr th:only-of-type {\n",
       "        vertical-align: middle;\n",
       "    }\n",
       "\n",
       "    .dataframe tbody tr th {\n",
       "        vertical-align: top;\n",
       "    }\n",
       "\n",
       "    .dataframe thead th {\n",
       "        text-align: right;\n",
       "    }\n",
       "</style>\n",
       "<table border=\"1\" class=\"dataframe\">\n",
       "  <thead>\n",
       "    <tr style=\"text-align: right;\">\n",
       "      <th></th>\n",
       "      <th>filename</th>\n",
       "      <th>transcription</th>\n",
       "      <th>phonemes</th>\n",
       "    </tr>\n",
       "  </thead>\n",
       "  <tbody>\n",
       "    <tr>\n",
       "      <th>0</th>\n",
       "      <td>713b7c4baf2c7b0742447c1ded7c0913_1_2.wav</td>\n",
       "      <td>¡oh padre, si usted está saliendo con una much...</td>\n",
       "      <td>¡ˈo pˈaðɾe, si ustˈeð estˈa saljˈɛndo kon ˈuna...</td>\n",
       "    </tr>\n",
       "    <tr>\n",
       "      <th>1</th>\n",
       "      <td>713b7c4baf2c7b0742447c1ded7c0913_2_2.wav</td>\n",
       "      <td>y esta muchacha se llega a la boca diciendo no</td>\n",
       "      <td>i ˈesta mutʃˈatʃa se ʝˈeɣa a la βˈoka ðisjˈɛnd...</td>\n",
       "    </tr>\n",
       "    <tr>\n",
       "      <th>2</th>\n",
       "      <td>713b7c4baf2c7b0742447c1ded7c0913_3_2.wav</td>\n",
       "      <td>que mi cuerpo es mi templo que yo no se</td>\n",
       "      <td>ke mi kwˈeɾpo ˈes mi tˈemplo ke ʝˈo nˈo sˈe</td>\n",
       "    </tr>\n",
       "    <tr>\n",
       "      <th>3</th>\n",
       "      <td>713b7c4baf2c7b0742447c1ded7c0913_4_2.wav</td>\n",
       "      <td>lo entrego a cualquiera vea, uya,</td>\n",
       "      <td>lo entɾˈeɣo a kwalkjˈeɾa βˈea, ˈujja,</td>\n",
       "    </tr>\n",
       "    <tr>\n",
       "      <th>4</th>\n",
       "      <td>713b7c4baf2c7b0742447c1ded7c0913_5_2.wav</td>\n",
       "      <td>uya porque esa mujer llevaba más palo que caratía</td>\n",
       "      <td>ˈujja pˌoɾke ˈesa muxˈeɾ ʝeβˈaβa mˈas pˈalo ke...</td>\n",
       "    </tr>\n",
       "    <tr>\n",
       "      <th>...</th>\n",
       "      <td>...</td>\n",
       "      <td>...</td>\n",
       "      <td>...</td>\n",
       "    </tr>\n",
       "    <tr>\n",
       "      <th>1012</th>\n",
       "      <td>a28fb41b758f81422807d4e0831fec51_7_10.wav</td>\n",
       "      <td>normal no te preocupen el peor de lo caso que ...</td>\n",
       "      <td>noɾmˈal nˈo te pɾˌeokˈupen el peˈoɾ ðe lo kˈas...</td>\n",
       "    </tr>\n",
       "    <tr>\n",
       "      <th>1013</th>\n",
       "      <td>a28fb41b758f81422807d4e0831fec51_8_10.wav</td>\n",
       "      <td>mix también claro ellos se enteran de todo el ...</td>\n",
       "      <td>mˈiks tambjˈen klˈaɾo ˈejjos se entˈeɾan de tˈ...</td>\n",
       "    </tr>\n",
       "    <tr>\n",
       "      <th>1014</th>\n",
       "      <td>a28fb41b758f81422807d4e0831fec51_9_10.wav</td>\n",
       "      <td>video por eso el principio porque me causa gra...</td>\n",
       "      <td>biðˈeo poɾ ˈeso el pɾinsˈipjo pˌoɾke me kˈaʊsa...</td>\n",
       "    </tr>\n",
       "    <tr>\n",
       "      <th>1015</th>\n",
       "      <td>a28fb41b758f81422807d4e0831fec51_10_10.wav</td>\n",
       "      <td>ha fui yo por el tema la demandemos el partido...</td>\n",
       "      <td>ˈa fwˈi ʝˈo poɾ el tˈema la ðˌemandˈemos el pa...</td>\n",
       "    </tr>\n",
       "    <tr>\n",
       "      <th>1016</th>\n",
       "      <td>a28fb41b758f81422807d4e0831fec51_11_10.wav</td>\n",
       "      <td>y claro pues vamos a dar que lo armado</td>\n",
       "      <td>i klˈaɾo pwˈes βˈamos a ðˈaɾ ke lo aɾmˈaðo</td>\n",
       "    </tr>\n",
       "  </tbody>\n",
       "</table>\n",
       "<p>1017 rows × 3 columns</p>\n",
       "</div>"
      ],
      "text/plain": [
       "                                        filename  \\\n",
       "0       713b7c4baf2c7b0742447c1ded7c0913_1_2.wav   \n",
       "1       713b7c4baf2c7b0742447c1ded7c0913_2_2.wav   \n",
       "2       713b7c4baf2c7b0742447c1ded7c0913_3_2.wav   \n",
       "3       713b7c4baf2c7b0742447c1ded7c0913_4_2.wav   \n",
       "4       713b7c4baf2c7b0742447c1ded7c0913_5_2.wav   \n",
       "...                                          ...   \n",
       "1012   a28fb41b758f81422807d4e0831fec51_7_10.wav   \n",
       "1013   a28fb41b758f81422807d4e0831fec51_8_10.wav   \n",
       "1014   a28fb41b758f81422807d4e0831fec51_9_10.wav   \n",
       "1015  a28fb41b758f81422807d4e0831fec51_10_10.wav   \n",
       "1016  a28fb41b758f81422807d4e0831fec51_11_10.wav   \n",
       "\n",
       "                                          transcription  \\\n",
       "0     ¡oh padre, si usted está saliendo con una much...   \n",
       "1        y esta muchacha se llega a la boca diciendo no   \n",
       "2               que mi cuerpo es mi templo que yo no se   \n",
       "3                     lo entrego a cualquiera vea, uya,   \n",
       "4     uya porque esa mujer llevaba más palo que caratía   \n",
       "...                                                 ...   \n",
       "1012  normal no te preocupen el peor de lo caso que ...   \n",
       "1013  mix también claro ellos se enteran de todo el ...   \n",
       "1014  video por eso el principio porque me causa gra...   \n",
       "1015  ha fui yo por el tema la demandemos el partido...   \n",
       "1016             y claro pues vamos a dar que lo armado   \n",
       "\n",
       "                                               phonemes  \n",
       "0     ¡ˈo pˈaðɾe, si ustˈeð estˈa saljˈɛndo kon ˈuna...  \n",
       "1     i ˈesta mutʃˈatʃa se ʝˈeɣa a la βˈoka ðisjˈɛnd...  \n",
       "2          ke mi kwˈeɾpo ˈes mi tˈemplo ke ʝˈo nˈo sˈe   \n",
       "3                lo entɾˈeɣo a kwalkjˈeɾa βˈea, ˈujja,   \n",
       "4     ˈujja pˌoɾke ˈesa muxˈeɾ ʝeβˈaβa mˈas pˈalo ke...  \n",
       "...                                                 ...  \n",
       "1012  noɾmˈal nˈo te pɾˌeokˈupen el peˈoɾ ðe lo kˈas...  \n",
       "1013  mˈiks tambjˈen klˈaɾo ˈejjos se entˈeɾan de tˈ...  \n",
       "1014  biðˈeo poɾ ˈeso el pɾinsˈipjo pˌoɾke me kˈaʊsa...  \n",
       "1015  ˈa fwˈi ʝˈo poɾ el tˈema la ðˌemandˈemos el pa...  \n",
       "1016        i klˈaɾo pwˈes βˈamos a ðˈaɾ ke lo aɾmˈaðo   \n",
       "\n",
       "[1017 rows x 3 columns]"
      ]
     },
     "execution_count": 65,
     "metadata": {},
     "output_type": "execute_result"
    }
   ],
   "source": [
    "data_split_train['phonemes'] = data_split_train['transcription'].apply(lambda text: get_phoneme(text))\n",
    "data_split_train"
   ]
  },
  {
   "cell_type": "code",
   "execution_count": null,
   "id": "5be8e700-1109-4e9c-a255-169609676ab6",
   "metadata": {},
   "outputs": [],
   "source": [
    "df_train_extended = pd.concat(\n",
    "    [\n",
    "        df[['filename', 'transcription','phonemes']],\n",
    "        data_split_train\n",
    "    ],\n",
    "    ignore_index=True\n",
    ")\n",
    "\n",
    "df_train_extended"
   ]
  },
  {
   "cell_type": "code",
   "execution_count": null,
   "id": "f8867cca-302a-4a1c-a224-2846f14da42b",
   "metadata": {},
   "outputs": [],
   "source": [
    "df_train_extended.to_csv(\"./ft_datapropio/style_lite/audios_paisa_wav/data_paisa_fresa_ext.csv\", index=False, sep = '|')"
   ]
  },
  {
   "cell_type": "code",
   "execution_count": 66,
   "id": "66fd0b30-9e47-41bf-aa7b-270b1daf9f20",
   "metadata": {
    "execution": {
     "iopub.execute_input": "2025-06-12T07:25:34.523022Z",
     "iopub.status.busy": "2025-06-12T07:25:34.522897Z",
     "iopub.status.idle": "2025-06-12T07:25:34.528998Z",
     "shell.execute_reply": "2025-06-12T07:25:34.528530Z",
     "shell.execute_reply.started": "2025-06-12T07:25:34.523011Z"
    }
   },
   "outputs": [
    {
     "data": {
      "text/plain": [
       "np.int64(1017)"
      ]
     },
     "execution_count": 66,
     "metadata": {},
     "output_type": "execute_result"
    }
   ],
   "source": [
    "data_split_train['filename'].apply(lambda filename: not os.path.exists(os.path.join(target_split, filename))).sum()"
   ]
  },
  {
   "cell_type": "code",
   "execution_count": 67,
   "id": "e941504d-9c31-47bc-8969-a6b374cd6192",
   "metadata": {
    "execution": {
     "iopub.execute_input": "2025-06-12T07:25:34.530250Z",
     "iopub.status.busy": "2025-06-12T07:25:34.530009Z",
     "iopub.status.idle": "2025-06-12T07:25:34.533104Z",
     "shell.execute_reply": "2025-06-12T07:25:34.532600Z",
     "shell.execute_reply.started": "2025-06-12T07:25:34.530238Z"
    }
   },
   "outputs": [],
   "source": [
    "df_subset = data_split_train[[\"filename\", \"phonemes\"]]"
   ]
  },
  {
   "cell_type": "code",
   "execution_count": 68,
   "id": "a5ca7761-36f0-48fe-85d2-24d0f150cada",
   "metadata": {
    "execution": {
     "iopub.execute_input": "2025-06-12T07:25:34.533781Z",
     "iopub.status.busy": "2025-06-12T07:25:34.533660Z",
     "iopub.status.idle": "2025-06-12T07:25:34.536842Z",
     "shell.execute_reply": "2025-06-12T07:25:34.536393Z",
     "shell.execute_reply.started": "2025-06-12T07:25:34.533771Z"
    }
   },
   "outputs": [
    {
     "data": {
      "text/plain": [
       "1017"
      ]
     },
     "execution_count": 68,
     "metadata": {},
     "output_type": "execute_result"
    }
   ],
   "source": [
    "len(df_subset)"
   ]
  },
  {
   "cell_type": "code",
   "execution_count": 69,
   "id": "be6e9958-7d0d-4e97-9b5a-3cd27c73bcd4",
   "metadata": {
    "execution": {
     "iopub.execute_input": "2025-06-12T07:25:34.537559Z",
     "iopub.status.busy": "2025-06-12T07:25:34.537329Z",
     "iopub.status.idle": "2025-06-12T07:25:34.540800Z",
     "shell.execute_reply": "2025-06-12T07:25:34.540311Z",
     "shell.execute_reply.started": "2025-06-12T07:25:34.537548Z"
    }
   },
   "outputs": [],
   "source": [
    "df_train = df_subset.sample(frac=0.8, random_state=42)\n",
    "df_val = df_subset.drop(df_train.index)"
   ]
  },
  {
   "cell_type": "code",
   "execution_count": 70,
   "id": "2ca78ded-ecaa-4e3b-b2c1-55ed9b2874eb",
   "metadata": {
    "execution": {
     "iopub.execute_input": "2025-06-12T07:25:34.541563Z",
     "iopub.status.busy": "2025-06-12T07:25:34.541324Z",
     "iopub.status.idle": "2025-06-12T07:25:34.544446Z",
     "shell.execute_reply": "2025-06-12T07:25:34.544010Z",
     "shell.execute_reply.started": "2025-06-12T07:25:34.541552Z"
    }
   },
   "outputs": [
    {
     "data": {
      "text/plain": [
       "814"
      ]
     },
     "execution_count": 70,
     "metadata": {},
     "output_type": "execute_result"
    }
   ],
   "source": [
    "len(df_train)"
   ]
  },
  {
   "cell_type": "code",
   "execution_count": 71,
   "id": "c573e625-6aa7-45de-8349-4e9fca9f6890",
   "metadata": {
    "execution": {
     "iopub.execute_input": "2025-06-12T07:25:34.545098Z",
     "iopub.status.busy": "2025-06-12T07:25:34.544981Z",
     "iopub.status.idle": "2025-06-12T07:25:34.548045Z",
     "shell.execute_reply": "2025-06-12T07:25:34.547607Z",
     "shell.execute_reply.started": "2025-06-12T07:25:34.545088Z"
    }
   },
   "outputs": [
    {
     "data": {
      "text/plain": [
       "203"
      ]
     },
     "execution_count": 71,
     "metadata": {},
     "output_type": "execute_result"
    }
   ],
   "source": [
    "len(df_val)"
   ]
  },
  {
   "cell_type": "code",
   "execution_count": 72,
   "id": "d3ac1694-49b7-4400-b8f0-67e5edabd4e3",
   "metadata": {
    "execution": {
     "iopub.execute_input": "2025-06-12T07:25:34.548646Z",
     "iopub.status.busy": "2025-06-12T07:25:34.548529Z",
     "iopub.status.idle": "2025-06-12T07:25:34.555411Z",
     "shell.execute_reply": "2025-06-12T07:25:34.554917Z",
     "shell.execute_reply.started": "2025-06-12T07:25:34.548635Z"
    }
   },
   "outputs": [],
   "source": [
    "df_train.to_csv(\"./ft_datapropio/style_lite/audios_costeno_wav/wav_24kHz/valledupar/hombre/train.txt\", index=False, sep = '|', header=False)\n",
    "df_val.to_csv(\"./ft_datapropio/style_lite/audios_costeno_wav/wav_24kHz/valledupar/hombre/val.txt\", index=False, sep = '|', header=False)"
   ]
  },
  {
   "cell_type": "code",
   "execution_count": null,
   "id": "5cbd0e6f-6c2c-4a47-8e76-c4114daa9aee",
   "metadata": {},
   "outputs": [],
   "source": []
  },
  {
   "cell_type": "code",
   "execution_count": null,
   "id": "6292d795-5714-4e77-a495-b8de2aa8b232",
   "metadata": {},
   "outputs": [],
   "source": []
  },
  {
   "cell_type": "code",
   "execution_count": 90,
   "id": "a1ce981f-aa65-45e5-ac21-c601354605d6",
   "metadata": {},
   "outputs": [
    {
     "data": {
      "text/html": [
       "<div>\n",
       "<style scoped>\n",
       "    .dataframe tbody tr th:only-of-type {\n",
       "        vertical-align: middle;\n",
       "    }\n",
       "\n",
       "    .dataframe tbody tr th {\n",
       "        vertical-align: top;\n",
       "    }\n",
       "\n",
       "    .dataframe thead th {\n",
       "        text-align: right;\n",
       "    }\n",
       "</style>\n",
       "<table border=\"1\" class=\"dataframe\">\n",
       "  <thead>\n",
       "    <tr style=\"text-align: right;\">\n",
       "      <th></th>\n",
       "      <th>filename</th>\n",
       "      <th>transcription</th>\n",
       "    </tr>\n",
       "  </thead>\n",
       "  <tbody>\n",
       "    <tr>\n",
       "      <th>0</th>\n",
       "      <td>3P-_raOF9lg_1_1.wav</td>\n",
       "      <td>amor</td>\n",
       "    </tr>\n",
       "    <tr>\n",
       "      <th>1</th>\n",
       "      <td>3P-_raOF9lg_2_1.wav</td>\n",
       "      <td>si quieres saber cuál es la</td>\n",
       "    </tr>\n",
       "    <tr>\n",
       "      <th>2</th>\n",
       "      <td>3P-_raOF9lg_3_1.wav</td>\n",
       "      <td>diferencia entre este</td>\n",
       "    </tr>\n",
       "    <tr>\n",
       "      <th>3</th>\n",
       "      <td>3P-_raOF9lg_4_1.wav</td>\n",
       "      <td>sombrerito y usted que</td>\n",
       "    </tr>\n",
       "    <tr>\n",
       "      <th>4</th>\n",
       "      <td>3P-_raOF9lg_5_1.wav</td>\n",
       "      <td>este yo me lo puedo sacar</td>\n",
       "    </tr>\n",
       "    <tr>\n",
       "      <th>...</th>\n",
       "      <td>...</td>\n",
       "      <td>...</td>\n",
       "    </tr>\n",
       "    <tr>\n",
       "      <th>601</th>\n",
       "      <td>IKD_aN6mjjU_15_2.wav</td>\n",
       "      <td>cabezito, pandeón o al mojano. usted solamente</td>\n",
       "    </tr>\n",
       "    <tr>\n",
       "      <th>602</th>\n",
       "      <td>IKD_aN6mjjU_16_2.wav</td>\n",
       "      <td>diga amor, ¿qué quiere que yo vengo a caerse lo</td>\n",
       "    </tr>\n",
       "    <tr>\n",
       "      <th>603</th>\n",
       "      <td>IKD_aN6mjjU_17_2.wav</td>\n",
       "      <td>traigo todo? a costumbre, sí, que las paisas</td>\n",
       "    </tr>\n",
       "    <tr>\n",
       "      <th>604</th>\n",
       "      <td>IKD_aN6mjjU_18_2.wav</td>\n",
       "      <td>mimamos mucho, mor. así usted me ha llegado,</td>\n",
       "    </tr>\n",
       "    <tr>\n",
       "      <th>605</th>\n",
       "      <td>IKD_aN6mjjU_19_2.wav</td>\n",
       "      <td>racho.</td>\n",
       "    </tr>\n",
       "  </tbody>\n",
       "</table>\n",
       "<p>606 rows × 2 columns</p>\n",
       "</div>"
      ],
      "text/plain": [
       "                 filename                                    transcription\n",
       "0     3P-_raOF9lg_1_1.wav                                             amor\n",
       "1     3P-_raOF9lg_2_1.wav                      si quieres saber cuál es la\n",
       "2     3P-_raOF9lg_3_1.wav                            diferencia entre este\n",
       "3     3P-_raOF9lg_4_1.wav                           sombrerito y usted que\n",
       "4     3P-_raOF9lg_5_1.wav                        este yo me lo puedo sacar\n",
       "..                    ...                                              ...\n",
       "601  IKD_aN6mjjU_15_2.wav   cabezito, pandeón o al mojano. usted solamente\n",
       "602  IKD_aN6mjjU_16_2.wav  diga amor, ¿qué quiere que yo vengo a caerse lo\n",
       "603  IKD_aN6mjjU_17_2.wav     traigo todo? a costumbre, sí, que las paisas\n",
       "604  IKD_aN6mjjU_18_2.wav     mimamos mucho, mor. así usted me ha llegado,\n",
       "605  IKD_aN6mjjU_19_2.wav                                           racho.\n",
       "\n",
       "[606 rows x 2 columns]"
      ]
     },
     "execution_count": 90,
     "metadata": {},
     "output_type": "execute_result"
    }
   ],
   "source": [
    "data_split_val = pd.DataFrame(\n",
    "    {\n",
    "        'filename': [],\n",
    "        'transcription': []\n",
    "    }\n",
    ")\n",
    "\n",
    "for idx, row in df_val.iterrows():\n",
    "    aux_data = split_audio(\n",
    "        audio_path=os.path.join(src_audios, row['filename']),\n",
    "        max_duration_secs=[1, 2],\n",
    "        output_dir='./ft_datapropio/style_lite/audios_paisa_wav/base2'\n",
    "    )\n",
    "    if len(data_split_val) == 0:\n",
    "        data_split_val = pd.DataFrame(aux_data)\n",
    "    else:\n",
    "        data_split_val = pd.concat([data_split_val, pd.DataFrame(aux_data)], ignore_index=True)\n",
    "\n",
    "data_split_val"
   ]
  },
  {
   "cell_type": "code",
   "execution_count": 91,
   "id": "e8b07f30-1480-4f74-9a70-9a2ba5b3b7d0",
   "metadata": {},
   "outputs": [
    {
     "data": {
      "text/html": [
       "<div>\n",
       "<style scoped>\n",
       "    .dataframe tbody tr th:only-of-type {\n",
       "        vertical-align: middle;\n",
       "    }\n",
       "\n",
       "    .dataframe tbody tr th {\n",
       "        vertical-align: top;\n",
       "    }\n",
       "\n",
       "    .dataframe thead th {\n",
       "        text-align: right;\n",
       "    }\n",
       "</style>\n",
       "<table border=\"1\" class=\"dataframe\">\n",
       "  <thead>\n",
       "    <tr style=\"text-align: right;\">\n",
       "      <th></th>\n",
       "      <th>filename</th>\n",
       "      <th>transcription</th>\n",
       "      <th>phonemes</th>\n",
       "    </tr>\n",
       "  </thead>\n",
       "  <tbody>\n",
       "    <tr>\n",
       "      <th>0</th>\n",
       "      <td>3P-_raOF9lg_1_1.wav</td>\n",
       "      <td>amor</td>\n",
       "      <td>amˈoɾ</td>\n",
       "    </tr>\n",
       "    <tr>\n",
       "      <th>1</th>\n",
       "      <td>3P-_raOF9lg_2_1.wav</td>\n",
       "      <td>si quieres saber cuál es la</td>\n",
       "      <td>si kjˈeɾes saβˈeɾ kwˈal ˈes lˈa</td>\n",
       "    </tr>\n",
       "    <tr>\n",
       "      <th>2</th>\n",
       "      <td>3P-_raOF9lg_3_1.wav</td>\n",
       "      <td>diferencia entre este</td>\n",
       "      <td>dˌifeɾˈɛnsja ˌentɾe ˈeste</td>\n",
       "    </tr>\n",
       "    <tr>\n",
       "      <th>3</th>\n",
       "      <td>3P-_raOF9lg_4_1.wav</td>\n",
       "      <td>sombrerito y usted que</td>\n",
       "      <td>sˌombɾeɾˈito i ustˈed kˈe</td>\n",
       "    </tr>\n",
       "    <tr>\n",
       "      <th>4</th>\n",
       "      <td>3P-_raOF9lg_5_1.wav</td>\n",
       "      <td>este yo me lo puedo sacar</td>\n",
       "      <td>ˈeste ʝˈo me lo pwˈeðo sakˈaɾ</td>\n",
       "    </tr>\n",
       "    <tr>\n",
       "      <th>...</th>\n",
       "      <td>...</td>\n",
       "      <td>...</td>\n",
       "      <td>...</td>\n",
       "    </tr>\n",
       "    <tr>\n",
       "      <th>601</th>\n",
       "      <td>IKD_aN6mjjU_15_2.wav</td>\n",
       "      <td>cabezito, pandeón o al mojano. usted solamente</td>\n",
       "      <td>kˌaβesˈito, pˌandeˈon o al moxˈano. ustˈed sˈo...</td>\n",
       "    </tr>\n",
       "    <tr>\n",
       "      <th>602</th>\n",
       "      <td>IKD_aN6mjjU_16_2.wav</td>\n",
       "      <td>diga amor, ¿qué quiere que yo vengo a caerse lo</td>\n",
       "      <td>dˈiɣa amˈoɾ, ¿kˈe kjˈeɾe ke ʝˈo βˈɛŋɡo a kaˈeɾ...</td>\n",
       "    </tr>\n",
       "    <tr>\n",
       "      <th>603</th>\n",
       "      <td>IKD_aN6mjjU_17_2.wav</td>\n",
       "      <td>traigo todo? a costumbre, sí, que las paisas</td>\n",
       "      <td>tɾˈaɪɣo tˈoðo? a kostˈumbɾe, sˈi, ke las pˈaɪsas</td>\n",
       "    </tr>\n",
       "    <tr>\n",
       "      <th>604</th>\n",
       "      <td>IKD_aN6mjjU_18_2.wav</td>\n",
       "      <td>mimamos mucho, mor. así usted me ha llegado,</td>\n",
       "      <td>mimˈamos mˈutʃo, mˈoɾ. asˈi ustˈed me ˈa ʝeɣˈa...</td>\n",
       "    </tr>\n",
       "    <tr>\n",
       "      <th>605</th>\n",
       "      <td>IKD_aN6mjjU_19_2.wav</td>\n",
       "      <td>racho.</td>\n",
       "      <td>ɾɾˈatʃo.</td>\n",
       "    </tr>\n",
       "  </tbody>\n",
       "</table>\n",
       "<p>606 rows × 3 columns</p>\n",
       "</div>"
      ],
      "text/plain": [
       "                 filename                                    transcription  \\\n",
       "0     3P-_raOF9lg_1_1.wav                                             amor   \n",
       "1     3P-_raOF9lg_2_1.wav                      si quieres saber cuál es la   \n",
       "2     3P-_raOF9lg_3_1.wav                            diferencia entre este   \n",
       "3     3P-_raOF9lg_4_1.wav                           sombrerito y usted que   \n",
       "4     3P-_raOF9lg_5_1.wav                        este yo me lo puedo sacar   \n",
       "..                    ...                                              ...   \n",
       "601  IKD_aN6mjjU_15_2.wav   cabezito, pandeón o al mojano. usted solamente   \n",
       "602  IKD_aN6mjjU_16_2.wav  diga amor, ¿qué quiere que yo vengo a caerse lo   \n",
       "603  IKD_aN6mjjU_17_2.wav     traigo todo? a costumbre, sí, que las paisas   \n",
       "604  IKD_aN6mjjU_18_2.wav     mimamos mucho, mor. así usted me ha llegado,   \n",
       "605  IKD_aN6mjjU_19_2.wav                                           racho.   \n",
       "\n",
       "                                              phonemes  \n",
       "0                                               amˈoɾ   \n",
       "1                     si kjˈeɾes saβˈeɾ kwˈal ˈes lˈa   \n",
       "2                           dˌifeɾˈɛnsja ˌentɾe ˈeste   \n",
       "3                           sˌombɾeɾˈito i ustˈed kˈe   \n",
       "4                       ˈeste ʝˈo me lo pwˈeðo sakˈaɾ   \n",
       "..                                                 ...  \n",
       "601  kˌaβesˈito, pˌandeˈon o al moxˈano. ustˈed sˈo...  \n",
       "602  dˈiɣa amˈoɾ, ¿kˈe kjˈeɾe ke ʝˈo βˈɛŋɡo a kaˈeɾ...  \n",
       "603  tɾˈaɪɣo tˈoðo? a kostˈumbɾe, sˈi, ke las pˈaɪsas   \n",
       "604  mimˈamos mˈutʃo, mˈoɾ. asˈi ustˈed me ˈa ʝeɣˈa...  \n",
       "605                                          ɾɾˈatʃo.   \n",
       "\n",
       "[606 rows x 3 columns]"
      ]
     },
     "execution_count": 91,
     "metadata": {},
     "output_type": "execute_result"
    }
   ],
   "source": [
    "data_split_val['phonemes'] = data_split_val['transcription'].apply(lambda text: get_phoneme(text))\n",
    "data_split_val"
   ]
  },
  {
   "cell_type": "code",
   "execution_count": 92,
   "id": "ea22b4b4-77b1-4322-9e3c-1d176428b168",
   "metadata": {},
   "outputs": [
    {
     "data": {
      "text/html": [
       "<div>\n",
       "<style scoped>\n",
       "    .dataframe tbody tr th:only-of-type {\n",
       "        vertical-align: middle;\n",
       "    }\n",
       "\n",
       "    .dataframe tbody tr th {\n",
       "        vertical-align: top;\n",
       "    }\n",
       "\n",
       "    .dataframe thead th {\n",
       "        text-align: right;\n",
       "    }\n",
       "</style>\n",
       "<table border=\"1\" class=\"dataframe\">\n",
       "  <thead>\n",
       "    <tr style=\"text-align: right;\">\n",
       "      <th></th>\n",
       "      <th>filename</th>\n",
       "      <th>transcription</th>\n",
       "      <th>phonemes</th>\n",
       "    </tr>\n",
       "  </thead>\n",
       "  <tbody>\n",
       "    <tr>\n",
       "      <th>0</th>\n",
       "      <td>3P-_raOF9lg.wav</td>\n",
       "      <td>amor si quieres saber cuál es la diferencia e...</td>\n",
       "      <td>amˈoɾ si kjˈeɾes saβˈeɾ kwˈal ˈes la ðˌifeɾˈɛn...</td>\n",
       "    </tr>\n",
       "    <tr>\n",
       "      <th>1</th>\n",
       "      <td>3H5f1JSoyS4.wav</td>\n",
       "      <td>Si usted se consiguió una noviensita paisa, e...</td>\n",
       "      <td>si ustˈed se kˌonsiɣjˈo ˈuna nˌoβjensˈita pˈaɪ...</td>\n",
       "    </tr>\n",
       "    <tr>\n",
       "      <th>2</th>\n",
       "      <td>tv3LyuoMqzY.wav</td>\n",
       "      <td>Hola, amor, ¿qué es, pues, bebé? ¿A qué hora ...</td>\n",
       "      <td>ˈola, amˈoɾ, ¿kˈe ˈes, pwˈes, beβˈe? ¿a kˈe ˈo...</td>\n",
       "    </tr>\n",
       "    <tr>\n",
       "      <th>3</th>\n",
       "      <td>xbynAuO3LxU.wav</td>\n",
       "      <td>Si usted está saliendo con una paisa, con una...</td>\n",
       "      <td>si ustˈeð estˈa saljˈɛndo kon ˈuna pˈaɪsa, kon...</td>\n",
       "    </tr>\n",
       "    <tr>\n",
       "      <th>4</th>\n",
       "      <td>AJSI0MSxkuk.wav</td>\n",
       "      <td>Si usted se consigue una noviezita paiza una ...</td>\n",
       "      <td>si ustˈed se konsˈiɣe ˈuna nˌoβjesˈita pˈaɪsa ...</td>\n",
       "    </tr>\n",
       "    <tr>\n",
       "      <th>...</th>\n",
       "      <td>...</td>\n",
       "      <td>...</td>\n",
       "      <td>...</td>\n",
       "    </tr>\n",
       "    <tr>\n",
       "      <th>628</th>\n",
       "      <td>IKD_aN6mjjU_15_2.wav</td>\n",
       "      <td>cabezito, pandeón o al mojano. usted solamente</td>\n",
       "      <td>kˌaβesˈito, pˌandeˈon o al moxˈano. ustˈed sˈo...</td>\n",
       "    </tr>\n",
       "    <tr>\n",
       "      <th>629</th>\n",
       "      <td>IKD_aN6mjjU_16_2.wav</td>\n",
       "      <td>diga amor, ¿qué quiere que yo vengo a caerse lo</td>\n",
       "      <td>dˈiɣa amˈoɾ, ¿kˈe kjˈeɾe ke ʝˈo βˈɛŋɡo a kaˈeɾ...</td>\n",
       "    </tr>\n",
       "    <tr>\n",
       "      <th>630</th>\n",
       "      <td>IKD_aN6mjjU_17_2.wav</td>\n",
       "      <td>traigo todo? a costumbre, sí, que las paisas</td>\n",
       "      <td>tɾˈaɪɣo tˈoðo? a kostˈumbɾe, sˈi, ke las pˈaɪsas</td>\n",
       "    </tr>\n",
       "    <tr>\n",
       "      <th>631</th>\n",
       "      <td>IKD_aN6mjjU_18_2.wav</td>\n",
       "      <td>mimamos mucho, mor. así usted me ha llegado,</td>\n",
       "      <td>mimˈamos mˈutʃo, mˈoɾ. asˈi ustˈed me ˈa ʝeɣˈa...</td>\n",
       "    </tr>\n",
       "    <tr>\n",
       "      <th>632</th>\n",
       "      <td>IKD_aN6mjjU_19_2.wav</td>\n",
       "      <td>racho.</td>\n",
       "      <td>ɾɾˈatʃo.</td>\n",
       "    </tr>\n",
       "  </tbody>\n",
       "</table>\n",
       "<p>633 rows × 3 columns</p>\n",
       "</div>"
      ],
      "text/plain": [
       "                 filename                                      transcription  \\\n",
       "0         3P-_raOF9lg.wav   amor si quieres saber cuál es la diferencia e...   \n",
       "1         3H5f1JSoyS4.wav   Si usted se consiguió una noviensita paisa, e...   \n",
       "2         tv3LyuoMqzY.wav   Hola, amor, ¿qué es, pues, bebé? ¿A qué hora ...   \n",
       "3         xbynAuO3LxU.wav   Si usted está saliendo con una paisa, con una...   \n",
       "4         AJSI0MSxkuk.wav   Si usted se consigue una noviezita paiza una ...   \n",
       "..                    ...                                                ...   \n",
       "628  IKD_aN6mjjU_15_2.wav     cabezito, pandeón o al mojano. usted solamente   \n",
       "629  IKD_aN6mjjU_16_2.wav    diga amor, ¿qué quiere que yo vengo a caerse lo   \n",
       "630  IKD_aN6mjjU_17_2.wav       traigo todo? a costumbre, sí, que las paisas   \n",
       "631  IKD_aN6mjjU_18_2.wav       mimamos mucho, mor. así usted me ha llegado,   \n",
       "632  IKD_aN6mjjU_19_2.wav                                             racho.   \n",
       "\n",
       "                                              phonemes  \n",
       "0    amˈoɾ si kjˈeɾes saβˈeɾ kwˈal ˈes la ðˌifeɾˈɛn...  \n",
       "1    si ustˈed se kˌonsiɣjˈo ˈuna nˌoβjensˈita pˈaɪ...  \n",
       "2    ˈola, amˈoɾ, ¿kˈe ˈes, pwˈes, beβˈe? ¿a kˈe ˈo...  \n",
       "3    si ustˈeð estˈa saljˈɛndo kon ˈuna pˈaɪsa, kon...  \n",
       "4    si ustˈed se konsˈiɣe ˈuna nˌoβjesˈita pˈaɪsa ...  \n",
       "..                                                 ...  \n",
       "628  kˌaβesˈito, pˌandeˈon o al moxˈano. ustˈed sˈo...  \n",
       "629  dˈiɣa amˈoɾ, ¿kˈe kjˈeɾe ke ʝˈo βˈɛŋɡo a kaˈeɾ...  \n",
       "630  tɾˈaɪɣo tˈoðo? a kostˈumbɾe, sˈi, ke las pˈaɪsas   \n",
       "631  mimˈamos mˈutʃo, mˈoɾ. asˈi ustˈed me ˈa ʝeɣˈa...  \n",
       "632                                          ɾɾˈatʃo.   \n",
       "\n",
       "[633 rows x 3 columns]"
      ]
     },
     "execution_count": 92,
     "metadata": {},
     "output_type": "execute_result"
    }
   ],
   "source": [
    "df_val_extended = pd.concat(\n",
    "    [\n",
    "        df_val[['filename', 'transcription','phonemes']],\n",
    "        data_split_val\n",
    "    ],\n",
    "    ignore_index=True\n",
    ")\n",
    "\n",
    "df_val_extended"
   ]
  },
  {
   "cell_type": "code",
   "execution_count": 93,
   "id": "325150cd-a82f-4eb2-b931-feb052e41a66",
   "metadata": {},
   "outputs": [
    {
     "data": {
      "text/plain": [
       "0"
      ]
     },
     "execution_count": 93,
     "metadata": {},
     "output_type": "execute_result"
    }
   ],
   "source": [
    "data_split_val['filename'].apply(lambda filename: not os.path.exists(os.path.join(target_split, filename))).sum()"
   ]
  },
  {
   "cell_type": "markdown",
   "id": "b9a25885-2dea-4c3a-be46-b20fd26c2bbe",
   "metadata": {},
   "source": [
    "# Generate dataset"
   ]
  },
  {
   "cell_type": "code",
   "execution_count": 94,
   "id": "5f16129c-474a-4c71-9b8a-9a381fcf21cf",
   "metadata": {},
   "outputs": [],
   "source": [
    "with open('Data_Speech/train.txt', 'w') as text_file:\n",
    "    for idx, row in df_train.iterrows():\n",
    "        n_line = f\"{os.path.abspath(os.path.join(src_audios, row['filename']))}|{row['phonemes'].strip()}\"\n",
    "        text_file.write(f'{n_line}\\n')\n",
    "\n",
    "    for idx, row in data_split_train.iterrows():\n",
    "        n_line = f\"{os.path.abspath(os.path.join(target_split, row['filename']))}|{row['phonemes'].strip()}\"\n",
    "        text_file.write(f'{n_line}\\n')"
   ]
  },
  {
   "cell_type": "code",
   "execution_count": 95,
   "id": "9845819d-457d-4fd8-83cb-af06e4a5f399",
   "metadata": {},
   "outputs": [],
   "source": [
    "with open('Data_Speech/val.txt', 'w') as text_file:\n",
    "    for idx, row in df_val.iterrows():\n",
    "        n_line = f\"{os.path.abspath(os.path.join(src_audios, row['filename']))}|{row['phonemes'].strip()}\"\n",
    "        text_file.write(f'{n_line}\\n')\n",
    "\n",
    "    for idx, row in data_split_val.iterrows():\n",
    "        n_line = f\"{os.path.abspath(os.path.join(target_split, row['filename']))}|{row['phonemes'].strip()}\"\n",
    "        text_file.write(f'{n_line}\\n')"
   ]
  },
  {
   "cell_type": "code",
   "execution_count": null,
   "id": "7d18bf4d-14a5-4876-ad64-4994a89728d2",
   "metadata": {},
   "outputs": [],
   "source": []
  }
 ],
 "metadata": {
  "kernelspec": {
   "display_name": "Python 3 (ipykernel)",
   "language": "python",
   "name": "python3"
  },
  "language_info": {
   "codemirror_mode": {
    "name": "ipython",
    "version": 3
   },
   "file_extension": ".py",
   "mimetype": "text/x-python",
   "name": "python",
   "nbconvert_exporter": "python",
   "pygments_lexer": "ipython3",
   "version": "3.11.11"
  }
 },
 "nbformat": 4,
 "nbformat_minor": 5
}
